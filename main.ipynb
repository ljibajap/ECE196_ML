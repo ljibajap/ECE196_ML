{
 "cells": [
  {
   "cell_type": "code",
   "execution_count": 1,
   "metadata": {},
   "outputs": [],
   "source": [
    "import pandas as pd\n",
    "import numpy as np\n",
    "import matplotlib.pyplot as plt\n",
    "import seaborn as sns \n",
    "import random\n",
    "import math"
   ]
  },
  {
   "cell_type": "code",
   "execution_count": 2,
   "metadata": {},
   "outputs": [],
   "source": [
    "pd.options.display.max_rows = 2000"
   ]
  },
  {
   "cell_type": "code",
   "execution_count": 3,
   "metadata": {},
   "outputs": [
    {
     "data": {
      "text/html": [
       "<div>\n",
       "<style scoped>\n",
       "    .dataframe tbody tr th:only-of-type {\n",
       "        vertical-align: middle;\n",
       "    }\n",
       "\n",
       "    .dataframe tbody tr th {\n",
       "        vertical-align: top;\n",
       "    }\n",
       "\n",
       "    .dataframe thead th {\n",
       "        text-align: right;\n",
       "    }\n",
       "</style>\n",
       "<table border=\"1\" class=\"dataframe\">\n",
       "  <thead>\n",
       "    <tr style=\"text-align: right;\">\n",
       "      <th></th>\n",
       "      <th>movieId</th>\n",
       "      <th>title</th>\n",
       "      <th>genres</th>\n",
       "    </tr>\n",
       "  </thead>\n",
       "  <tbody>\n",
       "    <tr>\n",
       "      <th>0</th>\n",
       "      <td>1</td>\n",
       "      <td>Toy Story (1995)</td>\n",
       "      <td>Adventure|Animation|Children|Comedy|Fantasy</td>\n",
       "    </tr>\n",
       "    <tr>\n",
       "      <th>1</th>\n",
       "      <td>2</td>\n",
       "      <td>Jumanji (1995)</td>\n",
       "      <td>Adventure|Children|Fantasy</td>\n",
       "    </tr>\n",
       "    <tr>\n",
       "      <th>2</th>\n",
       "      <td>3</td>\n",
       "      <td>Grumpier Old Men (1995)</td>\n",
       "      <td>Comedy|Romance</td>\n",
       "    </tr>\n",
       "    <tr>\n",
       "      <th>3</th>\n",
       "      <td>4</td>\n",
       "      <td>Waiting to Exhale (1995)</td>\n",
       "      <td>Comedy|Drama|Romance</td>\n",
       "    </tr>\n",
       "    <tr>\n",
       "      <th>4</th>\n",
       "      <td>5</td>\n",
       "      <td>Father of the Bride Part II (1995)</td>\n",
       "      <td>Comedy</td>\n",
       "    </tr>\n",
       "  </tbody>\n",
       "</table>\n",
       "</div>"
      ],
      "text/plain": [
       "   movieId                               title  \\\n",
       "0        1                    Toy Story (1995)   \n",
       "1        2                      Jumanji (1995)   \n",
       "2        3             Grumpier Old Men (1995)   \n",
       "3        4            Waiting to Exhale (1995)   \n",
       "4        5  Father of the Bride Part II (1995)   \n",
       "\n",
       "                                        genres  \n",
       "0  Adventure|Animation|Children|Comedy|Fantasy  \n",
       "1                   Adventure|Children|Fantasy  \n",
       "2                               Comedy|Romance  \n",
       "3                         Comedy|Drama|Romance  \n",
       "4                                       Comedy  "
      ]
     },
     "execution_count": 3,
     "metadata": {},
     "output_type": "execute_result"
    }
   ],
   "source": [
    "# database_type = input('What data set wanna use: Small(0), Big(1)')\n",
    "# if(int(database_type)):\n",
    "#     ratings_type = 'ratings.csv'\n",
    "# else:\n",
    "#     ratings_type = 'ratings_small.csv'\n",
    "\n",
    "movie_database = pd.read_csv('./Small_Data/movies.csv')\n",
    "# users_ratings = pd.read_csv('Data/' + ratings_type)\n",
    "users_ratings = pd.read_csv('./Small_Data/ratings.csv')\n",
    "movie_database.head()\n",
    "# users_ratings.head()"
   ]
  },
  {
   "cell_type": "code",
   "execution_count": 4,
   "metadata": {},
   "outputs": [
    {
     "name": "stdout",
     "output_type": "stream",
     "text": [
      "Total number of movies: 9742\n",
      "Total number of users: 610\n",
      "(100836, 4)\n"
     ]
    }
   ],
   "source": [
    "movie_database =  movie_database.rename(columns={'id':'movieId'})\n",
    "\n",
    "# Get the total number of users and movies\n",
    "num_users = len(pd.unique(users_ratings['userId']))\n",
    "num_movies = len(pd.unique(movie_database['movieId']))\n",
    "\n",
    "print(\"Total number of movies: \" + str(num_movies))\n",
    "print(\"Total number of users: \" + str(num_users))\n",
    "print(users_ratings.shape)"
   ]
  },
  {
   "cell_type": "code",
   "execution_count": 5,
   "metadata": {},
   "outputs": [],
   "source": [
    "'''\n",
    "Alg:\n",
    "1. Get userId list list_user\n",
    "2. Get movieId list list_movie\n",
    "3. For each user:\n",
    "    a. Get ratings by user\n",
    "    b. For each index of ratings in users_ratings dataframe:\n",
    "        i. Get movieid index (column index) in ratings['movieId']\n",
    "        ii. Append (user, movie, rating) to output list\n",
    "4. Returns 3-tuple (output_list, list_user, list_movie)\n",
    "'''\n",
    "def get_user_item_pairs():\n",
    "    list_userId = np.array(pd.unique(users_ratings['userId']))\n",
    "    list_movieId = np.array(pd.unique(movie_database['movieId']))\n",
    "    movie_index_list = pd.Index(movie_database['movieId'])\n",
    "    output_list = []\n",
    "    # index by user\n",
    "    for user_index in np.arange(0, len(list_userId)):\n",
    "        # associated user_id with user\n",
    "        user_id = list_userId[user_index]\n",
    "        # ratings by user\n",
    "        ratings = users_ratings[users_ratings['userId'] == user_id]\n",
    "        # for each row index associated with user\n",
    "        for index in ratings.index:\n",
    "            # get movie id for finding movie index\n",
    "            movie_id = users_ratings['movieId'].iloc[index]\n",
    "            # get movie index to place in list\n",
    "            movie_index = movie_index_list.get_loc(movie_id)#movie_database['movieId'].loc[movie_id]\n",
    "            # get rating\n",
    "            rating = users_ratings['rating'].iloc[index]\n",
    "            output_list.append((user_index, movie_index, rating))\n",
    "    return (np.array(output_list, dtype='i4,i4,i4'), list_userId, list_movieId)\n",
    "#     return (np.array(output_list, dtype=[('user_index', '<i4'), ('movie_index', '<i4'), ('rating', '<i4')]), list_userId, list_movieId)\n",
    "'''\n",
    "Input:\n",
    "    S is a collection of 3-tuples (user, movie, rating)\n",
    "        user is the index of the user in list_userId\n",
    "        movie is the index of the movie in list_movieId\n",
    "        rating is the corresponding rating\n",
    "    Output: mxn feedback matrix\n",
    "        m is the length of list_userId\n",
    "        n is the length of list_movieId\n",
    "        Entry (i, j) is nonzero if list_userId[i] reviewed list_movieId[j]\n",
    "'''\n",
    "def build_feedback_matrix(S, list_userId, list_movieId):\n",
    "    m = list_userId.shape[0]\n",
    "    n = list_movieId.shape[0]\n",
    "    F = np.zeros((m, n))\n",
    "    for (user_index, movie_index, rating) in S:\n",
    "        F[user_index, movie_index] = rating\n",
    "    return F\n",
    "\n",
    "def data_split(S, split=.5):\n",
    "    S_perm = np.copy(S)\n",
    "    np.random.shuffle(S_perm)\n",
    "    l = S_perm.shape[0]\n",
    "    train_index = int(l * split)\n",
    "    train = S_perm[:train_index];\n",
    "    test = S_perm[train_index:]\n",
    "    return(train, test)\n",
    "\n",
    "'''\n",
    "Train/Validation/Test split for data given by S.\n",
    "Default split is 40/40/20\n",
    "'''\n",
    "def train_validation_test_split(S, train_prop=.4, validation_prop=.4, test_prop=.2):\n",
    "    if (train_prop + validation_prop + test_prop != 1):\n",
    "        raise Exception\n",
    "    (pseudo_train, test) = data_split(S, split=(train_prop+validation_prop))\n",
    "    (train, validation) = data_split(pseudo_train, split=(train_prop / (train_prop + validation_prop)))\n",
    "    return (train, validation, test)\n",
    "\n",
    "'''\n",
    "K-fold cross validation.\n",
    "'''\n",
    "def k_foldCV(S, k=10):\n",
    "    S_perm = np.copy(S)\n",
    "    np.random.shuffle(S_perm)\n",
    "    N = S_perm.shape[0]\n",
    "    size = int(N / k)\n",
    "    r = N % k\n",
    "    folds = []\n",
    "    index = 0\n",
    "    for i in range(k):\n",
    "        if r > 0:\n",
    "            folds.append(S_perm[index:(index+size + 1)])\n",
    "            r = r - 1\n",
    "            index = index + size + 1\n",
    "        else:\n",
    "            folds.append(S_perm[index:(index+size)])\n",
    "            index = index + size\n",
    "    return np.array(folds)"
   ]
  },
  {
   "cell_type": "code",
   "execution_count": 6,
   "metadata": {
    "scrolled": false
   },
   "outputs": [],
   "source": [
    "(user_item_rating, list_userId, list_movieId)  = get_user_item_pairs()"
   ]
  },
  {
   "cell_type": "code",
   "execution_count": 7,
   "metadata": {},
   "outputs": [
    {
     "data": {
      "text/plain": [
       "array([(  0,    0, 4), (  0,    2, 4), (  0,    5, 4), ...,\n",
       "       (609, 9462, 5), (609, 9463, 5), (609, 9503, 3)],\n",
       "      dtype=[('f0', '<i4'), ('f1', '<i4'), ('f2', '<i4')])"
      ]
     },
     "execution_count": 7,
     "metadata": {},
     "output_type": "execute_result"
    }
   ],
   "source": [
    "user_item_rating"
   ]
  },
  {
   "cell_type": "code",
   "execution_count": 8,
   "metadata": {},
   "outputs": [],
   "source": [
    "(train_data, validation_data, test_data) = train_validation_test_split(user_item_rating)"
   ]
  },
  {
   "cell_type": "code",
   "execution_count": 9,
   "metadata": {},
   "outputs": [],
   "source": [
    "# # Build an NxM feedback matrix, N= Users, M= Movies\n",
    "# F_train = build_feedback_matrix(train, list_userId, list_movieId)\n",
    "# F_validation = build_feedback_matrix(validation, list_userId, list_movieId)\n",
    "# F_test = build_feedback_matrix(test, list_userId, list_movieId)"
   ]
  },
  {
   "cell_type": "code",
   "execution_count": 10,
   "metadata": {},
   "outputs": [],
   "source": [
    "# sns.heatmap(F_train)"
   ]
  },
  {
   "cell_type": "code",
   "execution_count": 11,
   "metadata": {},
   "outputs": [],
   "source": [
    "# sns.heatmap(F_validation)"
   ]
  },
  {
   "cell_type": "code",
   "execution_count": 12,
   "metadata": {},
   "outputs": [],
   "source": [
    "# sns.heatmap(F_test)"
   ]
  },
  {
   "cell_type": "code",
   "execution_count": 13,
   "metadata": {},
   "outputs": [],
   "source": [
    "def calc_loss(E):\n",
    "    return np.linalg.norm(E, ord='fro')**2\n"
   ]
  },
  {
   "cell_type": "code",
   "execution_count": 14,
   "metadata": {},
   "outputs": [],
   "source": [
    "'''\n",
    "Batch gradient descent algorithm.\n",
    "(Runtime currently not optimized for sparse matrices.)\n",
    "Our update equations are defined as\n",
    "U <- U + alpha* EV\n",
    "V <- V + alpha E'U\n",
    "\n",
    "where E = F - UV' is the residual matrix\n",
    "'''\n",
    "def gradient_descent(F, alpha=0.0005, K=50, d=2):\n",
    "    m = F.shape[0] # Number of users in feedback matrix\n",
    "    n = F.shape[1] # Number of items in feedback matrix\n",
    "    U = np.random.rand(m, d)\n",
    "    V = np.random.rand(n, d)\n",
    "    # Sanity check: we keep Frobenius norm at each step to measure our\n",
    "    # loss wrt the objective function\n",
    "    cost = []\n",
    "    # Stop condition is currently not relative to convergence,\n",
    "    # but a fixed number of iterations\n",
    "    for i in np.arange(1, K):\n",
    "        E = F - (U @ V.T) # Residual matrix\n",
    "        iter_cost = calc_loss(E)\n",
    "        cost.append(iter_cost)\n",
    "        # Intermediate U and V to insure simultaneous step\n",
    "        U_new = U + (alpha * (E @ V))\n",
    "        V_new = V + (alpha * (E.T @ U))\n",
    "        U = U_new\n",
    "        V = V_new\n",
    "    \n",
    "    return (U, V, cost)\n",
    "\n",
    "'''\n",
    "Wrapper that takes in feedback matrix data as a\n",
    "list of 3-tuples (row, col, rating). Written to\n",
    "help with cross validation\n",
    "'''\n",
    "def train(S, list_userId, list_movieId, alpha, K, d):\n",
    "    F_train = build_feedback_matrix(S, list_userId, list_movieId)\n",
    "    return (F_train, gradient_descent(F_train, alpha, K, d))"
   ]
  },
  {
   "cell_type": "code",
   "execution_count": 15,
   "metadata": {},
   "outputs": [],
   "source": [
    "'''\n",
    "Calculate the MSE of F_hat with respect to F\n",
    "S is a list of 3-tuples (i, j, rating)\n",
    "We calculate the MSE over cells (i, j) found in S.\n",
    "'''\n",
    "def MSE(S, F, F_hat):\n",
    "    # size of MSE calculation\n",
    "    N = S.shape[0]\n",
    "    mse = 0\n",
    "    for (row, col, r) in S:\n",
    "        residual = F_hat[row, col] - F[row, col]\n",
    "        mse = mse + (residual**2)\n",
    "    mse = mse / N\n",
    "    return mse\n",
    "\n",
    "'''\n",
    "Calculate the RMSE of F_hat with respect to F\n",
    "S is a list of 3-tuples (i, j, rating)\n",
    "We calculate the RMSE over cells (i, j) found in S.\n",
    "'''\n",
    "def RMSE(S, F, F_hat):\n",
    "    return math.sqrt(MSE(S, F, F_hat))"
   ]
  },
  {
   "cell_type": "code",
   "execution_count": 16,
   "metadata": {},
   "outputs": [
    {
     "name": "stderr",
     "output_type": "stream",
     "text": [
      "/opt/anaconda3/lib/python3.7/site-packages/ipykernel_launcher.py:92: VisibleDeprecationWarning: Creating an ndarray from ragged nested sequences (which is a list-or-tuple of lists-or-tuples-or ndarrays with different lengths or shapes) is deprecated. If you meant to do this, you must specify 'dtype=object' when creating the ndarray.\n"
     ]
    },
    {
     "name": "stdout",
     "output_type": "stream",
     "text": [
      "[3.468311475705137, 3.471221019039104, 3.4684927167627966, 3.472265881794665, 3.4690629885296294]\n",
      "[0.08468911219479458, 0.0856554968076157, 0.08499775787015439, 0.08701008473858131, 0.08874562841062218]\n"
     ]
    }
   ],
   "source": [
    "folds = k_foldCV(train_data, k=5)\n",
    "\n",
    "accuracy_train = []\n",
    "accuracy_validation = []\n",
    "for i in range(len(folds)):\n",
    "    holdout = folds[i]\n",
    "    selector = [j for j in range(len(folds)) if j != i]\n",
    "    train_folds = folds[selector]\n",
    "    train_set = np.concatenate(train_folds)\n",
    "    (F_train, (U, V, cost)) = train(train_set, list_userId, list_movieId, alpha=0.00005, K=50, d=2)\n",
    "    F_hat = U @ V.T\n",
    "    rmse_train = RMSE(train_set, F_train, F_hat)\n",
    "    rmse_validation = RMSE(holdout, F_train, F_hat)\n",
    "    accuracy_train.append(rmse_train)\n",
    "    accuracy_validation.append(rmse_validation)\n",
    "\n",
    "print(accuracy_train)\n",
    "print(accuracy_validation)"
   ]
  },
  {
   "cell_type": "code",
   "execution_count": 26,
   "metadata": {},
   "outputs": [
    {
     "data": {
      "text/plain": [
       "[<matplotlib.lines.Line2D at 0x7fd0e7861090>]"
      ]
     },
     "execution_count": 26,
     "metadata": {},
     "output_type": "execute_result"
    },
    {
     "data": {
      "image/png": "[encoded data removed]",
      "text/plain": [
       "<Figure size 432x288 with 1 Axes>"
      ]
     },
     "metadata": {
      "needs_background": "light"
     },
     "output_type": "display_data"
    }
   ],
   "source": [
    "# plt.plot(accuracy_train)\n",
    "plt.plot(accuracy_validation)"
   ]
  },
  {
   "cell_type": "code",
   "execution_count": null,
   "metadata": {},
   "outputs": [],
   "source": []
  },
  {
   "cell_type": "code",
   "execution_count": 18,
   "metadata": {},
   "outputs": [],
   "source": [
    "U, V, cost = gradient_descent(F_train, .00005, 500, 4)"
   ]
  },
  {
   "cell_type": "code",
   "execution_count": 19,
   "metadata": {},
   "outputs": [
    {
     "data": {
      "text/plain": [
       "392925.42442291795"
      ]
     },
     "execution_count": 19,
     "metadata": {},
     "output_type": "execute_result"
    }
   ],
   "source": [
    "min(cost)"
   ]
  },
  {
   "cell_type": "code",
   "execution_count": 20,
   "metadata": {},
   "outputs": [
    {
     "data": {
      "text/plain": [
       "[<matplotlib.lines.Line2D at 0x7fd127434210>]"
      ]
     },
     "execution_count": 20,
     "metadata": {},
     "output_type": "execute_result"
    },
    {
     "data": {
      "image/png": "[encoded data removed]",
      "text/plain": [
       "<Figure size 432x288 with 1 Axes>"
      ]
     },
     "metadata": {
      "needs_background": "light"
     },
     "output_type": "display_data"
    }
   ],
   "source": [
    "plt.plot(cost)"
   ]
  },
  {
   "cell_type": "code",
   "execution_count": 21,
   "metadata": {},
   "outputs": [
    {
     "data": {
      "text/plain": [
       "<AxesSubplot:>"
      ]
     },
     "execution_count": 21,
     "metadata": {},
     "output_type": "execute_result"
    },
    {
     "data": {
      "image/png": "[encoded data removed]",
      "text/plain": [
       "<Figure size 432x288 with 2 Axes>"
      ]
     },
     "metadata": {
      "needs_background": "light"
     },
     "output_type": "display_data"
    }
   ],
   "source": [
    "F_approx = U@V.T\n",
    "sns.heatmap(np.round(F_approx))"
   ]
  },
  {
   "cell_type": "code",
   "execution_count": 22,
   "metadata": {},
   "outputs": [],
   "source": [
    "def compare(F, F_approx, row, col):\n",
    "    return_str = 'F_({i},{j}): {f}\\tUV\\'_({i},{j}): {fhat}\\n'.format(i=row,j=col,f=F[row,col],fhat=F_approx[row,col])\n",
    "    return return_str"
   ]
  },
  {
   "cell_type": "code",
   "execution_count": 23,
   "metadata": {},
   "outputs": [
    {
     "ename": "NameError",
     "evalue": "name 'F' is not defined",
     "output_type": "error",
     "traceback": [
      "\u001b[0;31m---------------------------------------------------------------------------\u001b[0m",
      "\u001b[0;31mNameError\u001b[0m                                 Traceback (most recent call last)",
      "\u001b[0;32m<ipython-input-23-defeeedda097>\u001b[0m in \u001b[0;36m<module>\u001b[0;34m\u001b[0m\n\u001b[0;32m----> 1\u001b[0;31m \u001b[0;32mfor\u001b[0m \u001b[0mj\u001b[0m \u001b[0;32min\u001b[0m \u001b[0mnp\u001b[0m\u001b[0;34m.\u001b[0m\u001b[0marange\u001b[0m\u001b[0;34m(\u001b[0m\u001b[0;36m0\u001b[0m\u001b[0;34m,\u001b[0m \u001b[0mF\u001b[0m\u001b[0;34m.\u001b[0m\u001b[0mshape\u001b[0m\u001b[0;34m[\u001b[0m\u001b[0;36m0\u001b[0m\u001b[0;34m]\u001b[0m\u001b[0;34m+\u001b[0m\u001b[0;36m1\u001b[0m\u001b[0;34m)\u001b[0m\u001b[0;34m:\u001b[0m\u001b[0;34m\u001b[0m\u001b[0;34m\u001b[0m\u001b[0m\n\u001b[0m\u001b[1;32m      2\u001b[0m     \u001b[0mprint\u001b[0m\u001b[0;34m(\u001b[0m\u001b[0mcompare\u001b[0m\u001b[0;34m(\u001b[0m\u001b[0mF\u001b[0m\u001b[0;34m,\u001b[0m \u001b[0mF_approx\u001b[0m\u001b[0;34m,\u001b[0m \u001b[0;36m460\u001b[0m\u001b[0;34m,\u001b[0m \u001b[0mj\u001b[0m\u001b[0;34m)\u001b[0m\u001b[0;34m)\u001b[0m\u001b[0;34m\u001b[0m\u001b[0;34m\u001b[0m\u001b[0m\n",
      "\u001b[0;31mNameError\u001b[0m: name 'F' is not defined"
     ]
    }
   ],
   "source": [
    "for j in np.arange(0, F.shape[0]+1):\n",
    "    print(compare(F, F_approx, 460, j))"
   ]
  },
  {
   "cell_type": "code",
   "execution_count": null,
   "metadata": {},
   "outputs": [],
   "source": [
    "MSE(train, F, np.round(F_approx))"
   ]
  },
  {
   "cell_type": "code",
   "execution_count": null,
   "metadata": {},
   "outputs": [],
   "source": [
    "RMSE(train, F, np.round(F_approx))"
   ]
  },
  {
   "cell_type": "code",
   "execution_count": null,
   "metadata": {},
   "outputs": [],
   "source": []
  }
 ],
 "metadata": {
  "kernelspec": {
   "display_name": "Python 3",
   "language": "python",
   "name": "python3"
  },
  "language_info": {
   "codemirror_mode": {
    "name": "ipython",
    "version": 3
   },
   "file_extension": ".py",
   "mimetype": "text/x-python",
   "name": "python",
   "nbconvert_exporter": "python",
   "pygments_lexer": "ipython3",
   "version": "3.7.6"
  }
 },
 "nbformat": 4,
 "nbformat_minor": 2
}