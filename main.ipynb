{
 "metadata": {
  "language_info": {
   "codemirror_mode": {
    "name": "ipython",
    "version": 3
   },
   "file_extension": ".py",
   "mimetype": "text/x-python",
   "name": "python",
   "nbconvert_exporter": "python",
   "pygments_lexer": "ipython3",
   "version": "3.7.1"
  },
  "orig_nbformat": 2,
  "kernelspec": {
   "name": "python3",
   "display_name": "Python 3",
   "language": "python"
  }
 },
 "nbformat": 4,
 "nbformat_minor": 2,
 "cells": [
  {
   "cell_type": "code",
   "execution_count": 1,
   "metadata": {},
   "outputs": [],
   "source": [
    "import pandas as pd\n",
    "import numpy as np\n",
    "import matplotlib.pyplot as plt"
   ]
  },
  {
   "cell_type": "code",
   "execution_count": 2,
   "metadata": {},
   "outputs": [],
   "source": [
    "# Read Data and store on dataframes\n",
    "movie_database = pd.read_csv('Small_Data/movies.csv')\n",
    "users_ratings = pd.read_csv('Small_Data/ratings.csv')\n",
    "tags_database = pd.read_csv('Small_Data/tags.csv')\n",
    "links_database = pd.read_csv('Small_Data/links.csv')"
   ]
  },
  {
   "cell_type": "code",
   "execution_count": 3,
   "metadata": {},
   "outputs": [
    {
     "output_type": "execute_result",
     "data": {
      "text/plain": [
       "   movieId                               title  \\\n",
       "0        1                    Toy Story (1995)   \n",
       "1        2                      Jumanji (1995)   \n",
       "2        3             Grumpier Old Men (1995)   \n",
       "3        4            Waiting to Exhale (1995)   \n",
       "4        5  Father of the Bride Part II (1995)   \n",
       "5        6                         Heat (1995)   \n",
       "6        7                      Sabrina (1995)   \n",
       "7        8                 Tom and Huck (1995)   \n",
       "8        9                 Sudden Death (1995)   \n",
       "9       10                    GoldenEye (1995)   \n",
       "\n",
       "                                        genres  \n",
       "0  Adventure|Animation|Children|Comedy|Fantasy  \n",
       "1                   Adventure|Children|Fantasy  \n",
       "2                               Comedy|Romance  \n",
       "3                         Comedy|Drama|Romance  \n",
       "4                                       Comedy  \n",
       "5                        Action|Crime|Thriller  \n",
       "6                               Comedy|Romance  \n",
       "7                           Adventure|Children  \n",
       "8                                       Action  \n",
       "9                    Action|Adventure|Thriller  "
      ],
      "text/html": "<div>\n<style scoped>\n    .dataframe tbody tr th:only-of-type {\n        vertical-align: middle;\n    }\n\n    .dataframe tbody tr th {\n        vertical-align: top;\n    }\n\n    .dataframe thead th {\n        text-align: right;\n    }\n</style>\n<table border=\"1\" class=\"dataframe\">\n  <thead>\n    <tr style=\"text-align: right;\">\n      <th></th>\n      <th>movieId</th>\n      <th>title</th>\n      <th>genres</th>\n    </tr>\n  </thead>\n  <tbody>\n    <tr>\n      <th>0</th>\n      <td>1</td>\n      <td>Toy Story (1995)</td>\n      <td>Adventure|Animation|Children|Comedy|Fantasy</td>\n    </tr>\n    <tr>\n      <th>1</th>\n      <td>2</td>\n      <td>Jumanji (1995)</td>\n      <td>Adventure|Children|Fantasy</td>\n    </tr>\n    <tr>\n      <th>2</th>\n      <td>3</td>\n      <td>Grumpier Old Men (1995)</td>\n      <td>Comedy|Romance</td>\n    </tr>\n    <tr>\n      <th>3</th>\n      <td>4</td>\n      <td>Waiting to Exhale (1995)</td>\n      <td>Comedy|Drama|Romance</td>\n    </tr>\n    <tr>\n      <th>4</th>\n      <td>5</td>\n      <td>Father of the Bride Part II (1995)</td>\n      <td>Comedy</td>\n    </tr>\n    <tr>\n      <th>5</th>\n      <td>6</td>\n      <td>Heat (1995)</td>\n      <td>Action|Crime|Thriller</td>\n    </tr>\n    <tr>\n      <th>6</th>\n      <td>7</td>\n      <td>Sabrina (1995)</td>\n      <td>Comedy|Romance</td>\n    </tr>\n    <tr>\n      <th>7</th>\n      <td>8</td>\n      <td>Tom and Huck (1995)</td>\n      <td>Adventure|Children</td>\n    </tr>\n    <tr>\n      <th>8</th>\n      <td>9</td>\n      <td>Sudden Death (1995)</td>\n      <td>Action</td>\n    </tr>\n    <tr>\n      <th>9</th>\n      <td>10</td>\n      <td>GoldenEye (1995)</td>\n      <td>Action|Adventure|Thriller</td>\n    </tr>\n  </tbody>\n</table>\n</div>"
     },
     "metadata": {},
     "execution_count": 3
    }
   ],
   "source": [
    "# Display the first 10 items from the movies data set\n",
    "movie_database[0:10]"
   ]
  },
  {
   "cell_type": "code",
   "execution_count": 4,
   "metadata": {},
   "outputs": [
    {
     "output_type": "execute_result",
     "data": {
      "text/plain": [
       "   movieId             title                                       genres\n",
       "0        1  Toy Story (1995)  Adventure|Animation|Children|Comedy|Fantasy"
      ],
      "text/html": "<div>\n<style scoped>\n    .dataframe tbody tr th:only-of-type {\n        vertical-align: middle;\n    }\n\n    .dataframe tbody tr th {\n        vertical-align: top;\n    }\n\n    .dataframe thead th {\n        text-align: right;\n    }\n</style>\n<table border=\"1\" class=\"dataframe\">\n  <thead>\n    <tr style=\"text-align: right;\">\n      <th></th>\n      <th>movieId</th>\n      <th>title</th>\n      <th>genres</th>\n    </tr>\n  </thead>\n  <tbody>\n    <tr>\n      <th>0</th>\n      <td>1</td>\n      <td>Toy Story (1995)</td>\n      <td>Adventure|Animation|Children|Comedy|Fantasy</td>\n    </tr>\n  </tbody>\n</table>\n</div>"
     },
     "metadata": {},
     "execution_count": 4
    }
   ],
   "source": [
    "movie_database[movie_database['movieId']==1]"
   ]
  },
  {
   "cell_type": "code",
   "execution_count": 5,
   "metadata": {},
   "outputs": [
    {
     "output_type": "execute_result",
     "data": {
      "text/plain": [
       "   userId  movieId  rating  timestamp\n",
       "0       1        1     4.0  964982703\n",
       "1       1        3     4.0  964981247\n",
       "2       1        6     4.0  964982224\n",
       "3       1       47     5.0  964983815\n",
       "4       1       50     5.0  964982931"
      ],
      "text/html": "<div>\n<style scoped>\n    .dataframe tbody tr th:only-of-type {\n        vertical-align: middle;\n    }\n\n    .dataframe tbody tr th {\n        vertical-align: top;\n    }\n\n    .dataframe thead th {\n        text-align: right;\n    }\n</style>\n<table border=\"1\" class=\"dataframe\">\n  <thead>\n    <tr style=\"text-align: right;\">\n      <th></th>\n      <th>userId</th>\n      <th>movieId</th>\n      <th>rating</th>\n      <th>timestamp</th>\n    </tr>\n  </thead>\n  <tbody>\n    <tr>\n      <th>0</th>\n      <td>1</td>\n      <td>1</td>\n      <td>4.0</td>\n      <td>964982703</td>\n    </tr>\n    <tr>\n      <th>1</th>\n      <td>1</td>\n      <td>3</td>\n      <td>4.0</td>\n      <td>964981247</td>\n    </tr>\n    <tr>\n      <th>2</th>\n      <td>1</td>\n      <td>6</td>\n      <td>4.0</td>\n      <td>964982224</td>\n    </tr>\n    <tr>\n      <th>3</th>\n      <td>1</td>\n      <td>47</td>\n      <td>5.0</td>\n      <td>964983815</td>\n    </tr>\n    <tr>\n      <th>4</th>\n      <td>1</td>\n      <td>50</td>\n      <td>5.0</td>\n      <td>964982931</td>\n    </tr>\n  </tbody>\n</table>\n</div>"
     },
     "metadata": {},
     "execution_count": 5
    }
   ],
   "source": [
    "# Display the first 5 items from the rating data set\n",
    "users_ratings[0:5]"
   ]
  },
  {
   "cell_type": "code",
   "execution_count": 6,
   "metadata": {},
   "outputs": [],
   "source": [
    "# Shift users and movies ID by 1, so start at 0\n",
    "users_ratings['userId'] = users_ratings['userId'] - 1\n",
    "users_ratings['movieId'] = users_ratings['movieId'] - 1\n",
    "movie_database['movieId'] = movie_database['movieId'] - 1"
   ]
  },
  {
   "cell_type": "code",
   "execution_count": 7,
   "metadata": {},
   "outputs": [
    {
     "output_type": "execute_result",
     "data": {
      "text/plain": [
       "              userId        movieId         rating     timestamp\n",
       "count  100836.000000  100836.000000  100836.000000  1.008360e+05\n",
       "mean      325.127564   19434.295718       3.501557  1.205946e+09\n",
       "std       182.618491   35530.987199       1.042529  2.162610e+08\n",
       "min         0.000000       0.000000       0.500000  8.281246e+08\n",
       "25%       176.000000    1198.000000       3.000000  1.019124e+09\n",
       "50%       324.000000    2990.000000       3.500000  1.186087e+09\n",
       "75%       476.000000    8121.000000       4.000000  1.435994e+09\n",
       "max       609.000000  193608.000000       5.000000  1.537799e+09"
      ],
      "text/html": "<div>\n<style scoped>\n    .dataframe tbody tr th:only-of-type {\n        vertical-align: middle;\n    }\n\n    .dataframe tbody tr th {\n        vertical-align: top;\n    }\n\n    .dataframe thead th {\n        text-align: right;\n    }\n</style>\n<table border=\"1\" class=\"dataframe\">\n  <thead>\n    <tr style=\"text-align: right;\">\n      <th></th>\n      <th>userId</th>\n      <th>movieId</th>\n      <th>rating</th>\n      <th>timestamp</th>\n    </tr>\n  </thead>\n  <tbody>\n    <tr>\n      <th>count</th>\n      <td>100836.000000</td>\n      <td>100836.000000</td>\n      <td>100836.000000</td>\n      <td>1.008360e+05</td>\n    </tr>\n    <tr>\n      <th>mean</th>\n      <td>325.127564</td>\n      <td>19434.295718</td>\n      <td>3.501557</td>\n      <td>1.205946e+09</td>\n    </tr>\n    <tr>\n      <th>std</th>\n      <td>182.618491</td>\n      <td>35530.987199</td>\n      <td>1.042529</td>\n      <td>2.162610e+08</td>\n    </tr>\n    <tr>\n      <th>min</th>\n      <td>0.000000</td>\n      <td>0.000000</td>\n      <td>0.500000</td>\n      <td>8.281246e+08</td>\n    </tr>\n    <tr>\n      <th>25%</th>\n      <td>176.000000</td>\n      <td>1198.000000</td>\n      <td>3.000000</td>\n      <td>1.019124e+09</td>\n    </tr>\n    <tr>\n      <th>50%</th>\n      <td>324.000000</td>\n      <td>2990.000000</td>\n      <td>3.500000</td>\n      <td>1.186087e+09</td>\n    </tr>\n    <tr>\n      <th>75%</th>\n      <td>476.000000</td>\n      <td>8121.000000</td>\n      <td>4.000000</td>\n      <td>1.435994e+09</td>\n    </tr>\n    <tr>\n      <th>max</th>\n      <td>609.000000</td>\n      <td>193608.000000</td>\n      <td>5.000000</td>\n      <td>1.537799e+09</td>\n    </tr>\n  </tbody>\n</table>\n</div>"
     },
     "metadata": {},
     "execution_count": 7
    }
   ],
   "source": [
    "# Print ratings statistics describing numeric features\n",
    "users_ratings.describe()"
   ]
  },
  {
   "cell_type": "code",
   "execution_count": 8,
   "metadata": {},
   "outputs": [],
   "source": [
    "'''\n",
    "Alg:\n",
    "1. Get userId list list_user\n",
    "2. Get movieId list list_movie\n",
    "3. For each user:\n",
    "    a. Get ratings by user\n",
    "    b. For each index of ratings in users_ratings dataframe:\n",
    "        i. Get movieid index (column index) in ratings['movieId']\n",
    "        ii. Append (user, movie, rating) to output list\n",
    "4. Returns 3-tuple (output_list, list_user, list_movie)\n",
    "'''\n",
    "def get_user_item_pairs():\n",
    "    list_userId = np.array(pd.unique(users_ratings['userId']))\n",
    "    list_movieId = np.array(pd.unique(movie_database['movieId']))\n",
    "    movie_index_list = pd.Index(movie_database['movieId'])\n",
    "    output_list = []\n",
    "    # index by user\n",
    "    for user_index in np.arange(0, len(list_userId)):\n",
    "        # associated user_id with user\n",
    "        user_id = list_userId[user_index]\n",
    "        # ratings by user\n",
    "        ratings = users_ratings[users_ratings['userId'] == user_id]\n",
    "        # for each row index associated with user\n",
    "        for index in ratings.index:\n",
    "            # get movie id for finding movie index\n",
    "            movie_id = users_ratings['movieId'].iloc[index]\n",
    "            # get movie index to place in list\n",
    "            movie_index = movie_index_list.get_loc(movie_id)#movie_database['movieId'].loc[movie_id]\n",
    "            # get rating\n",
    "            rating = users_ratings['rating'].iloc[index]\n",
    "            #rating = ratings['rating'].loc[index]\n",
    "            #output_list.append((user_index, movie_index, rating))\n",
    "            output_list.append([user_index,movie_index,rating])\n",
    "    \n",
    "    #output_list = np.array(output_list,dtype='i4,i4,i4')\n",
    "    data_set = pd.DataFrame(output_list,columns=['user_idx','movie_idx','rating'])\n",
    "    \n",
    "    return(data_set,list_userId,list_movieId)\n",
    "    #return (np.array(output_list, dtype='i4,i4,i4'), list_userId, list_movieId)\n",
    "#     return (np.array(output_list, dtype=[('user_index', '<i4'), ('movie_index', '<i4'), ('rating', '<i4')]), list_userId, list_movieId)\n",
    "'''\n",
    "Input:\n",
    "    S is a collection of 3-tuples (user, movie, rating)\n",
    "        user is the index of the user in list_userId\n",
    "        movie is the index of the movie in list_movieId\n",
    "        rating is the corresponding rating\n",
    "    Output: mxn feedback matrix\n",
    "        m is the length of list_userId\n",
    "        n is the length of list_movieId\n",
    "        Entry (i, j) is nonzero if list_userId[i] reviewed list_movieId[j]\n",
    "'''\n",
    "def build_feedback_matrix(data_set, list_userId_len, list_movieId_len):\n",
    "    \"\"\"\n",
    "    m = list_userId.shape[0]\n",
    "    n = list_movieId.shape[0]\n",
    "    F = np.zeros((m, n))\n",
    "    for (user_index, movie_index, rating) in S:\n",
    "        F[user_index, movie_index] = rating\n",
    "    return F\n",
    "    \"\"\"\n",
    "    feedback_matrix = np.zeros((list_userId_len,list_movieId_len))\n",
    "    for index in data_set.index:\n",
    "        user_index = data_set['user_idx'].loc[index]\n",
    "        movie_index = data_set['movie_idx'].loc[index]\n",
    "        rating = data_set['rating'].loc[index]\n",
    "        feedback_matrix[user_index,movie_index] = rating\n",
    "    \n",
    "    return feedback_matrix\n",
    "\n",
    "\n",
    "# Break the dataset into test and train sets\n",
    "# Keep a 0.1 holdout fraction to construct test\n",
    "def data_split(data,val_fraction=0.25,test_fraction=0.1):\n",
    "    data_copy = data.copy()\n",
    "    data_copy = data_copy.sample(frac=1)\n",
    "    \n",
    "    test_set = data_copy.sample(frac=test_fraction)\n",
    "    \n",
    "    hold_set = data_copy[~data_copy.index.isin(test_set.index)]\n",
    "    val_set = hold_set.sample(frac=val_fraction)\n",
    "    train_set = hold_set[~hold_set.index.isin(val_set.index)]\n",
    "\n",
    "    return (train_set, val_set, test_set)"
   ]
  },
  {
   "cell_type": "code",
   "execution_count": 9,
   "metadata": {},
   "outputs": [],
   "source": [
    "# Construct the data set based on the index of user, movies bind with the respective rating\n",
    "# Build the list of usersIds\n",
    "# Build the list of movieIds\n",
    "(user_item_rating, list_userId, list_movieId)  = get_user_item_pairs()"
   ]
  },
  {
   "cell_type": "code",
   "execution_count": null,
   "metadata": {},
   "outputs": [],
   "source": [
    "# Split the data in train, validation and test set\n",
    "# Get the 10% for test set\n",
    "# Break the rest for 25% validation and 75% train\n",
    "(train_data,val_data,test_data) = data_split(user_item_rating)"
   ]
  },
  {
   "cell_type": "code",
   "execution_count": 10,
   "metadata": {},
   "outputs": [],
   "source": [
    "# Objetive function\n",
    "# Implement Mean Square Error(MSE)\n",
    "def calculate_loss(feedback_matrix,P,V):\n",
    "    #Calculate the ratings matrix approximation\n",
    "    predictions = np.dot(P,V.T)\n",
    "    \n",
    "    # Calculate the square error for each reating\n",
    "    error_matrix = np.square((feedback_matrix - predictions))\n",
    "    \n",
    "    # Return the mean square error over the last dimension\n",
    "    return np.mean(error_matrix)"
   ]
  },
  {
   "cell_type": "code",
   "execution_count": 11,
   "metadata": {},
   "outputs": [],
   "source": [
    "class CF_Model(object):\n",
    "    def __init__(self,users,movies):\n",
    "        self.embedding_vars = {}\n",
    "        self.train_loss = []\n",
    "        self.val_loss = []\n",
    "        self.list_userId = users\n",
    "        self.list_movieId = movies\n",
    "        self.num_users = users.shape[0]\n",
    "        self.num_movies = movies.shape[0]\n",
    "        self.num_features = 0\n",
    "        self.models = []\n",
    "\n",
    "    def embeddings(self):\n",
    "        return self.embedding_vars\n",
    "    \n",
    "    def build_model(self,num_features=30,mu=0,std=1):\n",
    "        \"\"\"\n",
    "            m: number of users\n",
    "            n: number of movies\n",
    "            k: number of features or latent factors   \n",
    "            P: m x k: associative matrix btw Users and Features \n",
    "            V: n x k: associative matrix btw Movies and Features\n",
    "        \"\"\"\n",
    "        self.num_features = num_features\n",
    "        P = np.random.normal(loc=mu,scale=std,size=(self.num_users,num_features))\n",
    "        V = np.random.normal(loc=mu,scale=std,size=(self.num_movies,num_features))\n",
    "        self.embedding_vars['P'] = P\n",
    "        self.embedding_vars['V'] = V\n",
    "    \n",
    "    def train(self,train_data,val_data,num_iter=100,learning_rate=0.00002,regulator=0.02)\n",
    "    #def train(self,data_set,num_iter=100,learning_rate=0.00002,regulator=0.02):\n",
    "        #train_data, test_data =  data_split(data_set)\n",
    "        train_matrix = build_feedback_matrix(train_data,self.num_users,self.num_movies)\n",
    "        #test_matrix = build_feedback_matrix(test_data,self.num_users,self.num_movies)\n",
    "        val_matrix = build_feedback_matrix(val_data,self.num_users,self.num_movies)\n",
    "        P = self.embedding_vars['P']\n",
    "        V = self.embedding_vars['V'].T\n",
    "\n",
    "        for epoch in range(num_iter):\n",
    "            for i in range(self.num_users):\n",
    "                for j in range(self.num_movies):\n",
    "                    if train_matrix[i,j] > 0:\n",
    "                        eij = train_matrix[i,j] - np.dot(P[i,:],V[:,j])\n",
    "                        \n",
    "                        for k in range(self.num_features):\n",
    "                            gradient_P = 2 * eij * V[k,j] - regulator * P[i,k]\n",
    "                            gradient_V = 2 * eij * P[i,k] - regulator * V[k,j]\n",
    "                            P[i,k] = P[i,k] + learning_rate * gradient_P\n",
    "                            V[k,j] = V[k,j] + learning_rate * gradient_V\n",
    "          \n",
    "            train_error = calculate_loss(train_matrix,P,V.T)\n",
    "            val_error = calculate_loss(val_matrix,P,V.T)\n",
    "            print(\"i: \" + str(epoch) + \" Train Loss: \" + str(train_error) + \" - Validation Loss: \" + str(val_error))\n",
    "            self.train_loss.append(train_error)\n",
    "            self.val_loss.append(val_error)\n",
    "            embeddings_vars = {'P':P, 'V': V.T}\n",
    "            #self.embedding_vars['P'] = P\n",
    "            #self.embedding_vars['V'] = V.T\n",
    "            self.models.append(embedding_vars)\n",
    "\n",
    "    def update_best_model():\n",
    "        min_validation_idx = np.argmin(self.val_loss)\n",
    "        min_validation = np.min(self.val_loss)\n",
    "        best_model = self.models[min_validation_idx]\n",
    "\n",
    "        self.embedding_vars['P'] = best_model['P']\n",
    "        self.embedding_vars['V'] = best_model['V']\n",
    "        return min_validation\n",
    "    \n",
    "    def calculate_test_data(self,test_data):\n",
    "        test_matrix = build_feedback_matrix(test_data,self.num_users,self.num_movies)\n",
    "        P = self.embedding_vars['P']\n",
    "        V = self.embedding_vars['V']\n",
    "        test_error = calculate_loss(test_matrix,P,V)\n",
    "        return test_error\n",
    "\n",
    "    def plot_loss(self):\n",
    "        fig = plt.figure()\n",
    "        fig.suptitle('Loss vs Number of Epochs')\n",
    "        ax = fig.add_subplot(111)\n",
    "        x1 = np.arange(len(self.train_loss))\n",
    "        x2 = np.arange(len(self.test_loss))\n",
    "        ax.plot(x1, self.train_loss, label='Train Data')\n",
    "        ax.plot(x2, self.test_loss, label='Val Data')\n",
    "        ax.set_ylabel('MSE Loss')\n",
    "        ax.set_xlabel('Epoch Number')\n",
    "        plt.legend()\n",
    "        plt.show()\n",
    "\n",
    "    def compute_scores(self,query_embedding,item_embedding,similarity_mesure='dot'):\n",
    "        \"\"\"\n",
    "            Similarity Mesure: Dot Product or Cosine\n",
    "        \"\"\"    \n",
    "        if similarity_mesure == 'dot':\n",
    "            score = np.dot(query_embedding,item_embedding.T)\n",
    "\n",
    "        elif similarity_mesure == 'cos':\n",
    "            query_norm = np.linalg.norm(query_embedding)\n",
    "            item_norm = np.linalg.norm(item_embedding)\n",
    "            score = np.dot(query_embedding,item_embedding.T) / (query_norm * item_norm)\n",
    "\n",
    "        return score\n",
    "    \n",
    "    def display_rank(self,k_top_movies_id, k_top_scores,measure):\n",
    "        movies_rank = pd.DataFrame()\n",
    "        measure_key = measure + ' score'\n",
    "        for i in range(len(k_top_movies_id)):\n",
    "            movie_id = k_top_movies_id[i]\n",
    "            movie = movie_database[movie_database['movieId']==movie_id].copy()\n",
    "            movie = movie.drop('genres',axis=1)\n",
    "            movie[measure_key] = k_top_scores[i]        \n",
    "            movies_rank = movies_rank.append(movie)\n",
    "        \n",
    "        movies_rank = movies_rank.sort_values([measure_key],ascending=False)\n",
    "        display(movies_rank)\n",
    "    \n",
    "    def user_base_rank(self,user_id,list_users_id,list_movies_id,num_recomendations=5,measure='dot'):\n",
    "        user_index = -1 \n",
    "        user_index = np.where(list_users_id==user_id)\n",
    "        if user_index ==  -1:\n",
    "            print(\"Error: User Id not valid, Not Found\")\n",
    "            return\n",
    "        \n",
    "        users_embeddings = self.embedding_vars['P']\n",
    "        movies_embeddings = self.embedding_vars['V']\n",
    "\n",
    "        user_embedding = users_embeddings[user_index]\n",
    "        scores = self.compute_scores(user_embedding,movies_embeddings,similarity_mesure=measure)[-1]\n",
    "    \n",
    "        k_top_scores_index = np.argsort(scores)[-1*num_recomendations:]\n",
    "        k_top_scores = scores[k_top_scores_index]\n",
    "\n",
    "        k_top_moviesId = list_movies_id[k_top_scores_index]\n",
    "    \n",
    "        self.display_rank(k_top_moviesId,np.around(k_top_scores,2),measure)\n",
    "    \n",
    "    def movie_base_rank(self,movie_title,list_movies_id,num_recomendations=5,measure='dot'):\n",
    "        movies_index = movie_database[movie_database['title'].str.contains(movie_title)].index.values\n",
    "        if len(movies_index) == 0:\n",
    "            print(\"Error: \" + movie_title)\n",
    "            print(\"Movie Title invalid, Not Found\")\n",
    "            return\n",
    "    \n",
    "        movie_index = movies_index[0]\n",
    "        movies_embeddings = self.embedding_vars['V']\n",
    "        movie_embedding = movies_embeddings[movie_index]\n",
    "\n",
    "        scores = self.compute_scores(movie_embedding,movies_embeddings,similarity_mesure=measure)\n",
    "\n",
    "        k_nearest_scores_index = np.argsort(scores)[-1*num_recomendations:]\n",
    "        k_nearest_scores = scores[k_nearest_scores_index]\n",
    "\n",
    "        k_nearest_moviesId = list_movies_id[k_nearest_scores_index]\n",
    "\n",
    "        self.display_rank(k_nearest_moviesId,np.around(k_nearest_scores,2),measure)"
   ]
  },
  {
   "cell_type": "code",
   "execution_count": 20,
   "metadata": {},
   "outputs": [],
   "source": [
    "model = CF_Model(list_userId, list_movieId)"
   ]
  },
  {
   "cell_type": "code",
   "execution_count": 21,
   "metadata": {},
   "outputs": [],
   "source": [
    "model.build_model(num_features=5)"
   ]
  },
  {
   "cell_type": "code",
   "execution_count": 22,
   "metadata": {},
   "outputs": [
    {
     "output_type": "stream",
     "name": "stdout",
     "text": [
      "i: 0 Train Loss: 4.976085017271563 - Test Loss: 4.795434196571342\n",
      "i: 1 Train Loss: 4.749757684787739 - Test Loss: 4.569819653535021\n",
      "i: 2 Train Loss: 4.558233296414707 - Test Loss: 4.378911098242749\n",
      "i: 3 Train Loss: 4.392528901170831 - Test Loss: 4.213753455074545\n",
      "i: 4 Train Loss: 4.2468469432308495 - Test Loss: 4.068567571032891\n",
      "i: 5 Train Loss: 4.117204574408633 - Test Loss: 3.939383523755974\n",
      "i: 6 Train Loss: 4.000731066306632 - Test Loss: 3.8233401612502953\n",
      "i: 7 Train Loss: 3.8952800163868573 - Test Loss: 3.7182985173387313\n",
      "i: 8 Train Loss: 3.7992005126147386 - Test Loss: 3.6226137062597354\n",
      "i: 9 Train Loss: 3.7111941017971644 - Test Loss: 3.53499235627838\n",
      "i: 10 Train Loss: 3.630221022050778 - Test Loss: 3.454399153787117\n",
      "i: 11 Train Loss: 3.555436306083463 - Test Loss: 3.3799931650950854\n",
      "i: 12 Train Loss: 3.4861448572742773 - Test Loss: 3.3110830725220706\n",
      "i: 13 Train Loss: 3.4217690513001275 - Test Loss: 3.247094898258221\n",
      "i: 14 Train Loss: 3.361824875204302 - Test Loss: 3.1875482407573053\n",
      "i: 15 Train Loss: 3.3059040421495585 - Test Loss: 3.132038470166446\n",
      "i: 16 Train Loss: 3.253660383510286 - Test Loss: 3.0802231898761363\n",
      "i: 17 Train Loss: 3.204799362047976 - Test Loss: 3.0318118115521746\n",
      "i: 18 Train Loss: 3.159069900854374 - Test Loss: 2.9865574407367745\n",
      "i: 19 Train Loss: 3.1162579557919794 - Test Loss: 2.944250502292712\n",
      "i: 20 Train Loss: 3.076181417184557 - Test Loss: 2.9047136923385697\n",
      "i: 21 Train Loss: 3.038686035481776 - Test Loss: 2.867797951765836\n",
      "i: 22 Train Loss: 3.003642141747858 - Test Loss: 2.833379232085849\n",
      "i: 23 Train Loss: 2.970941987476245 - Test Loss: 2.8013558775601015\n",
      "i: 24 Train Loss: 2.940497566199799 - Test Loss: 2.7716464850828006\n",
      "i: 25 Train Loss: 2.9122388061855315 - Test Loss: 2.74418812963052\n",
      "i: 26 Train Loss: 2.886112042273719 - Test Loss: 2.7189348613609665\n",
      "i: 27 Train Loss: 2.8620786878212248 - Test Loss: 2.6958563928105512\n",
      "i: 28 Train Loss: 2.840114036332154 - Test Loss: 2.6749369027137835\n",
      "i: 29 Train Loss: 2.8202061279447146 - Test Loss: 2.6561738880101946\n",
      "i: 30 Train Loss: 2.80235461953742 - Test Loss: 2.6395769987029163\n",
      "i: 31 Train Loss: 2.7865695997910076 - Test Loss: 2.625166792415435\n",
      "i: 32 Train Loss: 2.772870293069657 - Test Loss: 2.612973347813598\n",
      "i: 33 Train Loss: 2.7612835994975526 - Test Loss: 2.6030346796491934\n",
      "i: 34 Train Loss: 2.7518424242061443 - Test Loss: 2.5953949042562585\n"
     ]
    }
   ],
   "source": [
    "model.train(train_data,val_data,num_iter=35,learning_rate=0.0001)"
   ]
  },
  {
   "cell_type": "code",
   "execution_count": 23,
   "metadata": {},
   "outputs": [
    {
     "output_type": "display_data",
     "data": {
      "text/plain": "<Figure size 432x288 with 1 Axes>",
      "image/svg+xml": "<?xml version=\"1.0\" encoding=\"utf-8\" standalone=\"no\"?>\n<!DOCTYPE svg PUBLIC \"-//W3C//DTD SVG 1.1//EN\"\n  \"http://www.w3.org/Graphics/SVG/1.1/DTD/svg11.dtd\">\n<!-- Created with matplotlib (https://matplotlib.org/) -->\n<svg height=\"290.99625pt\" version=\"1.1\" viewBox=\"0 0 389.28125 290.99625\" width=\"389.28125pt\" xmlns=\"http://www.w3.org/2000/svg\" xmlns:xlink=\"http://www.w3.org/1999/xlink\">\n <defs>\n  <style type=\"text/css\">\n*{stroke-linecap:butt;stroke-linejoin:round;}\n  </style>\n </defs>\n <g id=\"figure_1\">\n  <g id=\"patch_1\">\n   <path d=\"M 0 290.99625 \nL 389.28125 290.99625 \nL 389.28125 0 \nL 0 0 \nz\n\" style=\"fill:none;\"/>\n  </g>\n  <g id=\"axes_1\">\n   <g id=\"patch_2\">\n    <path d=\"M 43.78125 253.44 \nL 378.58125 253.44 \nL 378.58125 36 \nL 43.78125 36 \nz\n\" style=\"fill:#ffffff;\"/>\n   </g>\n   <g id=\"matplotlib.axis_1\">\n    <g id=\"xtick_1\">\n     <g id=\"line2d_1\">\n      <defs>\n       <path d=\"M 0 0 \nL 0 3.5 \n\" id=\"m9f70d3b652\" style=\"stroke:#000000;stroke-width:0.8;\"/>\n      </defs>\n      <g>\n       <use style=\"stroke:#000000;stroke-width:0.8;\" x=\"58.999432\" xlink:href=\"#m9f70d3b652\" y=\"253.44\"/>\n      </g>\n     </g>\n     <g id=\"text_1\">\n      <!-- 0 -->\n      <defs>\n       <path d=\"M 31.78125 66.40625 \nQ 24.171875 66.40625 20.328125 58.90625 \nQ 16.5 51.421875 16.5 36.375 \nQ 16.5 21.390625 20.328125 13.890625 \nQ 24.171875 6.390625 31.78125 6.390625 \nQ 39.453125 6.390625 43.28125 13.890625 \nQ 47.125 21.390625 47.125 36.375 \nQ 47.125 51.421875 43.28125 58.90625 \nQ 39.453125 66.40625 31.78125 66.40625 \nz\nM 31.78125 74.21875 \nQ 44.046875 74.21875 50.515625 64.515625 \nQ 56.984375 54.828125 56.984375 36.375 \nQ 56.984375 17.96875 50.515625 8.265625 \nQ 44.046875 -1.421875 31.78125 -1.421875 \nQ 19.53125 -1.421875 13.0625 8.265625 \nQ 6.59375 17.96875 6.59375 36.375 \nQ 6.59375 54.828125 13.0625 64.515625 \nQ 19.53125 74.21875 31.78125 74.21875 \nz\n\" id=\"DejaVuSans-48\"/>\n      </defs>\n      <g transform=\"translate(55.818182 268.038437)scale(0.1 -0.1)\">\n       <use xlink:href=\"#DejaVuSans-48\"/>\n      </g>\n     </g>\n    </g>\n    <g id=\"xtick_2\">\n     <g id=\"line2d_2\">\n      <g>\n       <use style=\"stroke:#000000;stroke-width:0.8;\" x=\"103.75879\" xlink:href=\"#m9f70d3b652\" y=\"253.44\"/>\n      </g>\n     </g>\n     <g id=\"text_2\">\n      <!-- 5 -->\n      <defs>\n       <path d=\"M 10.796875 72.90625 \nL 49.515625 72.90625 \nL 49.515625 64.59375 \nL 19.828125 64.59375 \nL 19.828125 46.734375 \nQ 21.96875 47.46875 24.109375 47.828125 \nQ 26.265625 48.1875 28.421875 48.1875 \nQ 40.625 48.1875 47.75 41.5 \nQ 54.890625 34.8125 54.890625 23.390625 \nQ 54.890625 11.625 47.5625 5.09375 \nQ 40.234375 -1.421875 26.90625 -1.421875 \nQ 22.3125 -1.421875 17.546875 -0.640625 \nQ 12.796875 0.140625 7.71875 1.703125 \nL 7.71875 11.625 \nQ 12.109375 9.234375 16.796875 8.0625 \nQ 21.484375 6.890625 26.703125 6.890625 \nQ 35.15625 6.890625 40.078125 11.328125 \nQ 45.015625 15.765625 45.015625 23.390625 \nQ 45.015625 31 40.078125 35.4375 \nQ 35.15625 39.890625 26.703125 39.890625 \nQ 22.75 39.890625 18.8125 39.015625 \nQ 14.890625 38.140625 10.796875 36.28125 \nz\n\" id=\"DejaVuSans-53\"/>\n      </defs>\n      <g transform=\"translate(100.57754 268.038437)scale(0.1 -0.1)\">\n       <use xlink:href=\"#DejaVuSans-53\"/>\n      </g>\n     </g>\n    </g>\n    <g id=\"xtick_3\">\n     <g id=\"line2d_3\">\n      <g>\n       <use style=\"stroke:#000000;stroke-width:0.8;\" x=\"148.518148\" xlink:href=\"#m9f70d3b652\" y=\"253.44\"/>\n      </g>\n     </g>\n     <g id=\"text_3\">\n      <!-- 10 -->\n      <defs>\n       <path d=\"M 12.40625 8.296875 \nL 28.515625 8.296875 \nL 28.515625 63.921875 \nL 10.984375 60.40625 \nL 10.984375 69.390625 \nL 28.421875 72.90625 \nL 38.28125 72.90625 \nL 38.28125 8.296875 \nL 54.390625 8.296875 \nL 54.390625 0 \nL 12.40625 0 \nz\n\" id=\"DejaVuSans-49\"/>\n      </defs>\n      <g transform=\"translate(142.155648 268.038437)scale(0.1 -0.1)\">\n       <use xlink:href=\"#DejaVuSans-49\"/>\n       <use x=\"63.623047\" xlink:href=\"#DejaVuSans-48\"/>\n      </g>\n     </g>\n    </g>\n    <g id=\"xtick_4\">\n     <g id=\"line2d_4\">\n      <g>\n       <use style=\"stroke:#000000;stroke-width:0.8;\" x=\"193.277507\" xlink:href=\"#m9f70d3b652\" y=\"253.44\"/>\n      </g>\n     </g>\n     <g id=\"text_4\">\n      <!-- 15 -->\n      <g transform=\"translate(186.915007 268.038437)scale(0.1 -0.1)\">\n       <use xlink:href=\"#DejaVuSans-49\"/>\n       <use x=\"63.623047\" xlink:href=\"#DejaVuSans-53\"/>\n      </g>\n     </g>\n    </g>\n    <g id=\"xtick_5\">\n     <g id=\"line2d_5\">\n      <g>\n       <use style=\"stroke:#000000;stroke-width:0.8;\" x=\"238.036865\" xlink:href=\"#m9f70d3b652\" y=\"253.44\"/>\n      </g>\n     </g>\n     <g id=\"text_5\">\n      <!-- 20 -->\n      <defs>\n       <path d=\"M 19.1875 8.296875 \nL 53.609375 8.296875 \nL 53.609375 0 \nL 7.328125 0 \nL 7.328125 8.296875 \nQ 12.9375 14.109375 22.625 23.890625 \nQ 32.328125 33.6875 34.8125 36.53125 \nQ 39.546875 41.84375 41.421875 45.53125 \nQ 43.3125 49.21875 43.3125 52.78125 \nQ 43.3125 58.59375 39.234375 62.25 \nQ 35.15625 65.921875 28.609375 65.921875 \nQ 23.96875 65.921875 18.8125 64.3125 \nQ 13.671875 62.703125 7.8125 59.421875 \nL 7.8125 69.390625 \nQ 13.765625 71.78125 18.9375 73 \nQ 24.125 74.21875 28.421875 74.21875 \nQ 39.75 74.21875 46.484375 68.546875 \nQ 53.21875 62.890625 53.21875 53.421875 \nQ 53.21875 48.921875 51.53125 44.890625 \nQ 49.859375 40.875 45.40625 35.40625 \nQ 44.1875 33.984375 37.640625 27.21875 \nQ 31.109375 20.453125 19.1875 8.296875 \nz\n\" id=\"DejaVuSans-50\"/>\n      </defs>\n      <g transform=\"translate(231.674365 268.038437)scale(0.1 -0.1)\">\n       <use xlink:href=\"#DejaVuSans-50\"/>\n       <use x=\"63.623047\" xlink:href=\"#DejaVuSans-48\"/>\n      </g>\n     </g>\n    </g>\n    <g id=\"xtick_6\">\n     <g id=\"line2d_6\">\n      <g>\n       <use style=\"stroke:#000000;stroke-width:0.8;\" x=\"282.796223\" xlink:href=\"#m9f70d3b652\" y=\"253.44\"/>\n      </g>\n     </g>\n     <g id=\"text_6\">\n      <!-- 25 -->\n      <g transform=\"translate(276.433723 268.038437)scale(0.1 -0.1)\">\n       <use xlink:href=\"#DejaVuSans-50\"/>\n       <use x=\"63.623047\" xlink:href=\"#DejaVuSans-53\"/>\n      </g>\n     </g>\n    </g>\n    <g id=\"xtick_7\">\n     <g id=\"line2d_7\">\n      <g>\n       <use style=\"stroke:#000000;stroke-width:0.8;\" x=\"327.555582\" xlink:href=\"#m9f70d3b652\" y=\"253.44\"/>\n      </g>\n     </g>\n     <g id=\"text_7\">\n      <!-- 30 -->\n      <defs>\n       <path d=\"M 40.578125 39.3125 \nQ 47.65625 37.796875 51.625 33 \nQ 55.609375 28.21875 55.609375 21.1875 \nQ 55.609375 10.40625 48.1875 4.484375 \nQ 40.765625 -1.421875 27.09375 -1.421875 \nQ 22.515625 -1.421875 17.65625 -0.515625 \nQ 12.796875 0.390625 7.625 2.203125 \nL 7.625 11.71875 \nQ 11.71875 9.328125 16.59375 8.109375 \nQ 21.484375 6.890625 26.8125 6.890625 \nQ 36.078125 6.890625 40.9375 10.546875 \nQ 45.796875 14.203125 45.796875 21.1875 \nQ 45.796875 27.640625 41.28125 31.265625 \nQ 36.765625 34.90625 28.71875 34.90625 \nL 20.21875 34.90625 \nL 20.21875 43.015625 \nL 29.109375 43.015625 \nQ 36.375 43.015625 40.234375 45.921875 \nQ 44.09375 48.828125 44.09375 54.296875 \nQ 44.09375 59.90625 40.109375 62.90625 \nQ 36.140625 65.921875 28.71875 65.921875 \nQ 24.65625 65.921875 20.015625 65.03125 \nQ 15.375 64.15625 9.8125 62.3125 \nL 9.8125 71.09375 \nQ 15.4375 72.65625 20.34375 73.4375 \nQ 25.25 74.21875 29.59375 74.21875 \nQ 40.828125 74.21875 47.359375 69.109375 \nQ 53.90625 64.015625 53.90625 55.328125 \nQ 53.90625 49.265625 50.4375 45.09375 \nQ 46.96875 40.921875 40.578125 39.3125 \nz\n\" id=\"DejaVuSans-51\"/>\n      </defs>\n      <g transform=\"translate(321.193082 268.038437)scale(0.1 -0.1)\">\n       <use xlink:href=\"#DejaVuSans-51\"/>\n       <use x=\"63.623047\" xlink:href=\"#DejaVuSans-48\"/>\n      </g>\n     </g>\n    </g>\n    <g id=\"xtick_8\">\n     <g id=\"line2d_8\">\n      <g>\n       <use style=\"stroke:#000000;stroke-width:0.8;\" x=\"372.31494\" xlink:href=\"#m9f70d3b652\" y=\"253.44\"/>\n      </g>\n     </g>\n     <g id=\"text_8\">\n      <!-- 35 -->\n      <g transform=\"translate(365.95244 268.038437)scale(0.1 -0.1)\">\n       <use xlink:href=\"#DejaVuSans-51\"/>\n       <use x=\"63.623047\" xlink:href=\"#DejaVuSans-53\"/>\n      </g>\n     </g>\n    </g>\n    <g id=\"text_9\">\n     <!-- Epoch Number -->\n     <defs>\n      <path d=\"M 9.8125 72.90625 \nL 55.90625 72.90625 \nL 55.90625 64.59375 \nL 19.671875 64.59375 \nL 19.671875 43.015625 \nL 54.390625 43.015625 \nL 54.390625 34.71875 \nL 19.671875 34.71875 \nL 19.671875 8.296875 \nL 56.78125 8.296875 \nL 56.78125 0 \nL 9.8125 0 \nz\n\" id=\"DejaVuSans-69\"/>\n      <path d=\"M 18.109375 8.203125 \nL 18.109375 -20.796875 \nL 9.078125 -20.796875 \nL 9.078125 54.6875 \nL 18.109375 54.6875 \nL 18.109375 46.390625 \nQ 20.953125 51.265625 25.265625 53.625 \nQ 29.59375 56 35.59375 56 \nQ 45.5625 56 51.78125 48.09375 \nQ 58.015625 40.1875 58.015625 27.296875 \nQ 58.015625 14.40625 51.78125 6.484375 \nQ 45.5625 -1.421875 35.59375 -1.421875 \nQ 29.59375 -1.421875 25.265625 0.953125 \nQ 20.953125 3.328125 18.109375 8.203125 \nz\nM 48.6875 27.296875 \nQ 48.6875 37.203125 44.609375 42.84375 \nQ 40.53125 48.484375 33.40625 48.484375 \nQ 26.265625 48.484375 22.1875 42.84375 \nQ 18.109375 37.203125 18.109375 27.296875 \nQ 18.109375 17.390625 22.1875 11.75 \nQ 26.265625 6.109375 33.40625 6.109375 \nQ 40.53125 6.109375 44.609375 11.75 \nQ 48.6875 17.390625 48.6875 27.296875 \nz\n\" id=\"DejaVuSans-112\"/>\n      <path d=\"M 30.609375 48.390625 \nQ 23.390625 48.390625 19.1875 42.75 \nQ 14.984375 37.109375 14.984375 27.296875 \nQ 14.984375 17.484375 19.15625 11.84375 \nQ 23.34375 6.203125 30.609375 6.203125 \nQ 37.796875 6.203125 41.984375 11.859375 \nQ 46.1875 17.53125 46.1875 27.296875 \nQ 46.1875 37.015625 41.984375 42.703125 \nQ 37.796875 48.390625 30.609375 48.390625 \nz\nM 30.609375 56 \nQ 42.328125 56 49.015625 48.375 \nQ 55.71875 40.765625 55.71875 27.296875 \nQ 55.71875 13.875 49.015625 6.21875 \nQ 42.328125 -1.421875 30.609375 -1.421875 \nQ 18.84375 -1.421875 12.171875 6.21875 \nQ 5.515625 13.875 5.515625 27.296875 \nQ 5.515625 40.765625 12.171875 48.375 \nQ 18.84375 56 30.609375 56 \nz\n\" id=\"DejaVuSans-111\"/>\n      <path d=\"M 48.78125 52.59375 \nL 48.78125 44.1875 \nQ 44.96875 46.296875 41.140625 47.34375 \nQ 37.3125 48.390625 33.40625 48.390625 \nQ 24.65625 48.390625 19.8125 42.84375 \nQ 14.984375 37.3125 14.984375 27.296875 \nQ 14.984375 17.28125 19.8125 11.734375 \nQ 24.65625 6.203125 33.40625 6.203125 \nQ 37.3125 6.203125 41.140625 7.25 \nQ 44.96875 8.296875 48.78125 10.40625 \nL 48.78125 2.09375 \nQ 45.015625 0.34375 40.984375 -0.53125 \nQ 36.96875 -1.421875 32.421875 -1.421875 \nQ 20.0625 -1.421875 12.78125 6.34375 \nQ 5.515625 14.109375 5.515625 27.296875 \nQ 5.515625 40.671875 12.859375 48.328125 \nQ 20.21875 56 33.015625 56 \nQ 37.15625 56 41.109375 55.140625 \nQ 45.0625 54.296875 48.78125 52.59375 \nz\n\" id=\"DejaVuSans-99\"/>\n      <path d=\"M 54.890625 33.015625 \nL 54.890625 0 \nL 45.90625 0 \nL 45.90625 32.71875 \nQ 45.90625 40.484375 42.875 44.328125 \nQ 39.84375 48.1875 33.796875 48.1875 \nQ 26.515625 48.1875 22.3125 43.546875 \nQ 18.109375 38.921875 18.109375 30.90625 \nL 18.109375 0 \nL 9.078125 0 \nL 9.078125 75.984375 \nL 18.109375 75.984375 \nL 18.109375 46.1875 \nQ 21.34375 51.125 25.703125 53.5625 \nQ 30.078125 56 35.796875 56 \nQ 45.21875 56 50.046875 50.171875 \nQ 54.890625 44.34375 54.890625 33.015625 \nz\n\" id=\"DejaVuSans-104\"/>\n      <path id=\"DejaVuSans-32\"/>\n      <path d=\"M 9.8125 72.90625 \nL 23.09375 72.90625 \nL 55.421875 11.921875 \nL 55.421875 72.90625 \nL 64.984375 72.90625 \nL 64.984375 0 \nL 51.703125 0 \nL 19.390625 60.984375 \nL 19.390625 0 \nL 9.8125 0 \nz\n\" id=\"DejaVuSans-78\"/>\n      <path d=\"M 8.5 21.578125 \nL 8.5 54.6875 \nL 17.484375 54.6875 \nL 17.484375 21.921875 \nQ 17.484375 14.15625 20.5 10.265625 \nQ 23.53125 6.390625 29.59375 6.390625 \nQ 36.859375 6.390625 41.078125 11.03125 \nQ 45.3125 15.671875 45.3125 23.6875 \nL 45.3125 54.6875 \nL 54.296875 54.6875 \nL 54.296875 0 \nL 45.3125 0 \nL 45.3125 8.40625 \nQ 42.046875 3.421875 37.71875 1 \nQ 33.40625 -1.421875 27.6875 -1.421875 \nQ 18.265625 -1.421875 13.375 4.4375 \nQ 8.5 10.296875 8.5 21.578125 \nz\nM 31.109375 56 \nz\n\" id=\"DejaVuSans-117\"/>\n      <path d=\"M 52 44.1875 \nQ 55.375 50.25 60.0625 53.125 \nQ 64.75 56 71.09375 56 \nQ 79.640625 56 84.28125 50.015625 \nQ 88.921875 44.046875 88.921875 33.015625 \nL 88.921875 0 \nL 79.890625 0 \nL 79.890625 32.71875 \nQ 79.890625 40.578125 77.09375 44.375 \nQ 74.3125 48.1875 68.609375 48.1875 \nQ 61.625 48.1875 57.5625 43.546875 \nQ 53.515625 38.921875 53.515625 30.90625 \nL 53.515625 0 \nL 44.484375 0 \nL 44.484375 32.71875 \nQ 44.484375 40.625 41.703125 44.40625 \nQ 38.921875 48.1875 33.109375 48.1875 \nQ 26.21875 48.1875 22.15625 43.53125 \nQ 18.109375 38.875 18.109375 30.90625 \nL 18.109375 0 \nL 9.078125 0 \nL 9.078125 54.6875 \nL 18.109375 54.6875 \nL 18.109375 46.1875 \nQ 21.1875 51.21875 25.484375 53.609375 \nQ 29.78125 56 35.6875 56 \nQ 41.65625 56 45.828125 52.96875 \nQ 50 49.953125 52 44.1875 \nz\n\" id=\"DejaVuSans-109\"/>\n      <path d=\"M 48.6875 27.296875 \nQ 48.6875 37.203125 44.609375 42.84375 \nQ 40.53125 48.484375 33.40625 48.484375 \nQ 26.265625 48.484375 22.1875 42.84375 \nQ 18.109375 37.203125 18.109375 27.296875 \nQ 18.109375 17.390625 22.1875 11.75 \nQ 26.265625 6.109375 33.40625 6.109375 \nQ 40.53125 6.109375 44.609375 11.75 \nQ 48.6875 17.390625 48.6875 27.296875 \nz\nM 18.109375 46.390625 \nQ 20.953125 51.265625 25.265625 53.625 \nQ 29.59375 56 35.59375 56 \nQ 45.5625 56 51.78125 48.09375 \nQ 58.015625 40.1875 58.015625 27.296875 \nQ 58.015625 14.40625 51.78125 6.484375 \nQ 45.5625 -1.421875 35.59375 -1.421875 \nQ 29.59375 -1.421875 25.265625 0.953125 \nQ 20.953125 3.328125 18.109375 8.203125 \nL 18.109375 0 \nL 9.078125 0 \nL 9.078125 75.984375 \nL 18.109375 75.984375 \nz\n\" id=\"DejaVuSans-98\"/>\n      <path d=\"M 56.203125 29.59375 \nL 56.203125 25.203125 \nL 14.890625 25.203125 \nQ 15.484375 15.921875 20.484375 11.0625 \nQ 25.484375 6.203125 34.421875 6.203125 \nQ 39.59375 6.203125 44.453125 7.46875 \nQ 49.3125 8.734375 54.109375 11.28125 \nL 54.109375 2.78125 \nQ 49.265625 0.734375 44.1875 -0.34375 \nQ 39.109375 -1.421875 33.890625 -1.421875 \nQ 20.796875 -1.421875 13.15625 6.1875 \nQ 5.515625 13.8125 5.515625 26.8125 \nQ 5.515625 40.234375 12.765625 48.109375 \nQ 20.015625 56 32.328125 56 \nQ 43.359375 56 49.78125 48.890625 \nQ 56.203125 41.796875 56.203125 29.59375 \nz\nM 47.21875 32.234375 \nQ 47.125 39.59375 43.09375 43.984375 \nQ 39.0625 48.390625 32.421875 48.390625 \nQ 24.90625 48.390625 20.390625 44.140625 \nQ 15.875 39.890625 15.1875 32.171875 \nz\n\" id=\"DejaVuSans-101\"/>\n      <path d=\"M 41.109375 46.296875 \nQ 39.59375 47.171875 37.8125 47.578125 \nQ 36.03125 48 33.890625 48 \nQ 26.265625 48 22.1875 43.046875 \nQ 18.109375 38.09375 18.109375 28.8125 \nL 18.109375 0 \nL 9.078125 0 \nL 9.078125 54.6875 \nL 18.109375 54.6875 \nL 18.109375 46.1875 \nQ 20.953125 51.171875 25.484375 53.578125 \nQ 30.03125 56 36.53125 56 \nQ 37.453125 56 38.578125 55.875 \nQ 39.703125 55.765625 41.0625 55.515625 \nz\n\" id=\"DejaVuSans-114\"/>\n     </defs>\n     <g transform=\"translate(174.195312 281.716562)scale(0.1 -0.1)\">\n      <use xlink:href=\"#DejaVuSans-69\"/>\n      <use x=\"63.183594\" xlink:href=\"#DejaVuSans-112\"/>\n      <use x=\"126.660156\" xlink:href=\"#DejaVuSans-111\"/>\n      <use x=\"187.841797\" xlink:href=\"#DejaVuSans-99\"/>\n      <use x=\"242.822266\" xlink:href=\"#DejaVuSans-104\"/>\n      <use x=\"306.201172\" xlink:href=\"#DejaVuSans-32\"/>\n      <use x=\"337.988281\" xlink:href=\"#DejaVuSans-78\"/>\n      <use x=\"412.792969\" xlink:href=\"#DejaVuSans-117\"/>\n      <use x=\"476.171875\" xlink:href=\"#DejaVuSans-109\"/>\n      <use x=\"573.583984\" xlink:href=\"#DejaVuSans-98\"/>\n      <use x=\"637.060547\" xlink:href=\"#DejaVuSans-101\"/>\n      <use x=\"698.583984\" xlink:href=\"#DejaVuSans-114\"/>\n     </g>\n    </g>\n   </g>\n   <g id=\"matplotlib.axis_2\">\n    <g id=\"ytick_1\">\n     <g id=\"line2d_9\">\n      <defs>\n       <path d=\"M 0 0 \nL -3.5 0 \n\" id=\"maab1a5b659\" style=\"stroke:#000000;stroke-width:0.8;\"/>\n      </defs>\n      <g>\n       <use style=\"stroke:#000000;stroke-width:0.8;\" x=\"43.78125\" xlink:href=\"#maab1a5b659\" y=\"251.477164\"/>\n      </g>\n     </g>\n     <g id=\"text_10\">\n      <!-- 2.5 -->\n      <defs>\n       <path d=\"M 10.6875 12.40625 \nL 21 12.40625 \nL 21 0 \nL 10.6875 0 \nz\n\" id=\"DejaVuSans-46\"/>\n      </defs>\n      <g transform=\"translate(20.878125 255.276383)scale(0.1 -0.1)\">\n       <use xlink:href=\"#DejaVuSans-50\"/>\n       <use x=\"63.623047\" xlink:href=\"#DejaVuSans-46\"/>\n       <use x=\"95.410156\" xlink:href=\"#DejaVuSans-53\"/>\n      </g>\n     </g>\n    </g>\n    <g id=\"ytick_2\">\n     <g id=\"line2d_10\">\n      <g>\n       <use style=\"stroke:#000000;stroke-width:0.8;\" x=\"43.78125\" xlink:href=\"#maab1a5b659\" y=\"209.961318\"/>\n      </g>\n     </g>\n     <g id=\"text_11\">\n      <!-- 3.0 -->\n      <g transform=\"translate(20.878125 213.760537)scale(0.1 -0.1)\">\n       <use xlink:href=\"#DejaVuSans-51\"/>\n       <use x=\"63.623047\" xlink:href=\"#DejaVuSans-46\"/>\n       <use x=\"95.410156\" xlink:href=\"#DejaVuSans-48\"/>\n      </g>\n     </g>\n    </g>\n    <g id=\"ytick_3\">\n     <g id=\"line2d_11\">\n      <g>\n       <use style=\"stroke:#000000;stroke-width:0.8;\" x=\"43.78125\" xlink:href=\"#maab1a5b659\" y=\"168.445472\"/>\n      </g>\n     </g>\n     <g id=\"text_12\">\n      <!-- 3.5 -->\n      <g transform=\"translate(20.878125 172.244691)scale(0.1 -0.1)\">\n       <use xlink:href=\"#DejaVuSans-51\"/>\n       <use x=\"63.623047\" xlink:href=\"#DejaVuSans-46\"/>\n       <use x=\"95.410156\" xlink:href=\"#DejaVuSans-53\"/>\n      </g>\n     </g>\n    </g>\n    <g id=\"ytick_4\">\n     <g id=\"line2d_12\">\n      <g>\n       <use style=\"stroke:#000000;stroke-width:0.8;\" x=\"43.78125\" xlink:href=\"#maab1a5b659\" y=\"126.929626\"/>\n      </g>\n     </g>\n     <g id=\"text_13\">\n      <!-- 4.0 -->\n      <defs>\n       <path d=\"M 37.796875 64.3125 \nL 12.890625 25.390625 \nL 37.796875 25.390625 \nz\nM 35.203125 72.90625 \nL 47.609375 72.90625 \nL 47.609375 25.390625 \nL 58.015625 25.390625 \nL 58.015625 17.1875 \nL 47.609375 17.1875 \nL 47.609375 0 \nL 37.796875 0 \nL 37.796875 17.1875 \nL 4.890625 17.1875 \nL 4.890625 26.703125 \nz\n\" id=\"DejaVuSans-52\"/>\n      </defs>\n      <g transform=\"translate(20.878125 130.728845)scale(0.1 -0.1)\">\n       <use xlink:href=\"#DejaVuSans-52\"/>\n       <use x=\"63.623047\" xlink:href=\"#DejaVuSans-46\"/>\n       <use x=\"95.410156\" xlink:href=\"#DejaVuSans-48\"/>\n      </g>\n     </g>\n    </g>\n    <g id=\"ytick_5\">\n     <g id=\"line2d_13\">\n      <g>\n       <use style=\"stroke:#000000;stroke-width:0.8;\" x=\"43.78125\" xlink:href=\"#maab1a5b659\" y=\"85.413781\"/>\n      </g>\n     </g>\n     <g id=\"text_14\">\n      <!-- 4.5 -->\n      <g transform=\"translate(20.878125 89.212999)scale(0.1 -0.1)\">\n       <use xlink:href=\"#DejaVuSans-52\"/>\n       <use x=\"63.623047\" xlink:href=\"#DejaVuSans-46\"/>\n       <use x=\"95.410156\" xlink:href=\"#DejaVuSans-53\"/>\n      </g>\n     </g>\n    </g>\n    <g id=\"ytick_6\">\n     <g id=\"line2d_14\">\n      <g>\n       <use style=\"stroke:#000000;stroke-width:0.8;\" x=\"43.78125\" xlink:href=\"#maab1a5b659\" y=\"43.897935\"/>\n      </g>\n     </g>\n     <g id=\"text_15\">\n      <!-- 5.0 -->\n      <g transform=\"translate(20.878125 47.697154)scale(0.1 -0.1)\">\n       <use xlink:href=\"#DejaVuSans-53\"/>\n       <use x=\"63.623047\" xlink:href=\"#DejaVuSans-46\"/>\n       <use x=\"95.410156\" xlink:href=\"#DejaVuSans-48\"/>\n      </g>\n     </g>\n    </g>\n    <g id=\"text_16\">\n     <!-- MSE Loss -->\n     <defs>\n      <path d=\"M 9.8125 72.90625 \nL 24.515625 72.90625 \nL 43.109375 23.296875 \nL 61.8125 72.90625 \nL 76.515625 72.90625 \nL 76.515625 0 \nL 66.890625 0 \nL 66.890625 64.015625 \nL 48.09375 14.015625 \nL 38.1875 14.015625 \nL 19.390625 64.015625 \nL 19.390625 0 \nL 9.8125 0 \nz\n\" id=\"DejaVuSans-77\"/>\n      <path d=\"M 53.515625 70.515625 \nL 53.515625 60.890625 \nQ 47.90625 63.578125 42.921875 64.890625 \nQ 37.9375 66.21875 33.296875 66.21875 \nQ 25.25 66.21875 20.875 63.09375 \nQ 16.5 59.96875 16.5 54.203125 \nQ 16.5 49.359375 19.40625 46.890625 \nQ 22.3125 44.4375 30.421875 42.921875 \nL 36.375 41.703125 \nQ 47.40625 39.59375 52.65625 34.296875 \nQ 57.90625 29 57.90625 20.125 \nQ 57.90625 9.515625 50.796875 4.046875 \nQ 43.703125 -1.421875 29.984375 -1.421875 \nQ 24.8125 -1.421875 18.96875 -0.25 \nQ 13.140625 0.921875 6.890625 3.21875 \nL 6.890625 13.375 \nQ 12.890625 10.015625 18.65625 8.296875 \nQ 24.421875 6.59375 29.984375 6.59375 \nQ 38.421875 6.59375 43.015625 9.90625 \nQ 47.609375 13.234375 47.609375 19.390625 \nQ 47.609375 24.75 44.3125 27.78125 \nQ 41.015625 30.8125 33.5 32.328125 \nL 27.484375 33.5 \nQ 16.453125 35.6875 11.515625 40.375 \nQ 6.59375 45.0625 6.59375 53.421875 \nQ 6.59375 63.09375 13.40625 68.65625 \nQ 20.21875 74.21875 32.171875 74.21875 \nQ 37.3125 74.21875 42.625 73.28125 \nQ 47.953125 72.359375 53.515625 70.515625 \nz\n\" id=\"DejaVuSans-83\"/>\n      <path d=\"M 9.8125 72.90625 \nL 19.671875 72.90625 \nL 19.671875 8.296875 \nL 55.171875 8.296875 \nL 55.171875 0 \nL 9.8125 0 \nz\n\" id=\"DejaVuSans-76\"/>\n      <path d=\"M 44.28125 53.078125 \nL 44.28125 44.578125 \nQ 40.484375 46.53125 36.375 47.5 \nQ 32.28125 48.484375 27.875 48.484375 \nQ 21.1875 48.484375 17.84375 46.4375 \nQ 14.5 44.390625 14.5 40.28125 \nQ 14.5 37.15625 16.890625 35.375 \nQ 19.28125 33.59375 26.515625 31.984375 \nL 29.59375 31.296875 \nQ 39.15625 29.25 43.1875 25.515625 \nQ 47.21875 21.78125 47.21875 15.09375 \nQ 47.21875 7.46875 41.1875 3.015625 \nQ 35.15625 -1.421875 24.609375 -1.421875 \nQ 20.21875 -1.421875 15.453125 -0.5625 \nQ 10.6875 0.296875 5.421875 2 \nL 5.421875 11.28125 \nQ 10.40625 8.6875 15.234375 7.390625 \nQ 20.0625 6.109375 24.8125 6.109375 \nQ 31.15625 6.109375 34.5625 8.28125 \nQ 37.984375 10.453125 37.984375 14.40625 \nQ 37.984375 18.0625 35.515625 20.015625 \nQ 33.0625 21.96875 24.703125 23.78125 \nL 21.578125 24.515625 \nQ 13.234375 26.265625 9.515625 29.90625 \nQ 5.8125 33.546875 5.8125 39.890625 \nQ 5.8125 47.609375 11.28125 51.796875 \nQ 16.75 56 26.8125 56 \nQ 31.78125 56 36.171875 55.265625 \nQ 40.578125 54.546875 44.28125 53.078125 \nz\n\" id=\"DejaVuSans-115\"/>\n     </defs>\n     <g transform=\"translate(14.798438 168.010625)rotate(-90)scale(0.1 -0.1)\">\n      <use xlink:href=\"#DejaVuSans-77\"/>\n      <use x=\"86.279297\" xlink:href=\"#DejaVuSans-83\"/>\n      <use x=\"149.755859\" xlink:href=\"#DejaVuSans-69\"/>\n      <use x=\"212.939453\" xlink:href=\"#DejaVuSans-32\"/>\n      <use x=\"244.726562\" xlink:href=\"#DejaVuSans-76\"/>\n      <use x=\"300.423828\" xlink:href=\"#DejaVuSans-111\"/>\n      <use x=\"361.605469\" xlink:href=\"#DejaVuSans-115\"/>\n      <use x=\"413.705078\" xlink:href=\"#DejaVuSans-115\"/>\n     </g>\n    </g>\n   </g>\n   <g id=\"line2d_15\">\n    <path clip-path=\"url(#p24a044f95c)\" d=\"M 58.999432 45.883636 \nL 67.951303 64.675978 \nL 76.903175 80.578572 \nL 85.855047 94.337288 \nL 94.806918 106.433507 \nL 103.75879 117.197932 \nL 112.710662 126.868925 \nL 121.662533 135.624704 \nL 130.614405 143.602348 \nL 139.566277 150.909669 \nL 148.518148 157.633001 \nL 157.47002 163.842502 \nL 166.421892 169.595888 \nL 175.373763 174.94112 \nL 184.325635 179.918387 \nL 193.277507 184.561588 \nL 202.229378 188.899467 \nL 211.18125 192.956481 \nL 220.133122 196.753475 \nL 229.084993 200.308223 \nL 238.036865 203.635846 \nL 246.988737 206.749151 \nL 255.940608 209.658905 \nL 264.89248 212.374054 \nL 273.844352 214.901906 \nL 282.796223 217.248278 \nL 291.748095 219.417628 \nL 300.699967 221.413158 \nL 309.651838 223.23692 \nL 318.60371 224.889907 \nL 327.555582 226.372148 \nL 336.507453 227.682805 \nL 345.459325 228.820282 \nL 354.411197 229.782345 \nL 363.363068 230.566261 \n\" style=\"fill:none;stroke:#1f77b4;stroke-linecap:square;stroke-width:1.5;\"/>\n   </g>\n   <g id=\"line2d_16\">\n    <path clip-path=\"url(#p24a044f95c)\" d=\"M 58.999432 60.88338 \nL 67.951303 79.616537 \nL 76.903175 95.467997 \nL 85.855047 109.181316 \nL 94.806918 121.236345 \nL 103.75879 131.962715 \nL 112.710662 141.597992 \nL 121.662533 150.319777 \nL 130.614405 158.264649 \nL 139.566277 165.539998 \nL 148.518148 172.231788 \nL 157.47002 178.409843 \nL 166.421892 184.131564 \nL 175.373763 189.444611 \nL 184.325635 194.38887 \nL 193.277507 198.997941 \nL 202.229378 203.300251 \nL 211.18125 207.31993 \nL 220.133122 211.077477 \nL 229.084993 214.590293 \nL 238.036865 217.873101 \nL 246.988737 220.938278 \nL 255.940608 223.796122 \nL 264.89248 226.455076 \nL 273.844352 228.921897 \nL 282.796223 231.20181 \nL 291.748095 233.298632 \nL 300.699967 235.214876 \nL 309.651838 236.951857 \nL 318.60371 238.509782 \nL 327.555582 239.88785 \nL 336.507453 241.084353 \nL 345.459325 242.096796 \nL 354.411197 242.92202 \nL 363.363068 243.556364 \n\" style=\"fill:none;stroke:#ff7f0e;stroke-linecap:square;stroke-width:1.5;\"/>\n   </g>\n   <g id=\"patch_3\">\n    <path d=\"M 43.78125 253.44 \nL 43.78125 36 \n\" style=\"fill:none;stroke:#000000;stroke-linecap:square;stroke-linejoin:miter;stroke-width:0.8;\"/>\n   </g>\n   <g id=\"patch_4\">\n    <path d=\"M 378.58125 253.44 \nL 378.58125 36 \n\" style=\"fill:none;stroke:#000000;stroke-linecap:square;stroke-linejoin:miter;stroke-width:0.8;\"/>\n   </g>\n   <g id=\"patch_5\">\n    <path d=\"M 43.78125 253.44 \nL 378.58125 253.44 \n\" style=\"fill:none;stroke:#000000;stroke-linecap:square;stroke-linejoin:miter;stroke-width:0.8;\"/>\n   </g>\n   <g id=\"patch_6\">\n    <path d=\"M 43.78125 36 \nL 378.58125 36 \n\" style=\"fill:none;stroke:#000000;stroke-linecap:square;stroke-linejoin:miter;stroke-width:0.8;\"/>\n   </g>\n   <g id=\"legend_1\">\n    <g id=\"patch_7\">\n     <path d=\"M 287.085938 73.35625 \nL 371.58125 73.35625 \nQ 373.58125 73.35625 373.58125 71.35625 \nL 373.58125 43 \nQ 373.58125 41 371.58125 41 \nL 287.085938 41 \nQ 285.085938 41 285.085938 43 \nL 285.085938 71.35625 \nQ 285.085938 73.35625 287.085938 73.35625 \nz\n\" style=\"fill:#ffffff;opacity:0.8;stroke:#cccccc;stroke-linejoin:miter;\"/>\n    </g>\n    <g id=\"line2d_17\">\n     <path d=\"M 289.085938 49.098437 \nL 309.085938 49.098437 \n\" style=\"fill:none;stroke:#1f77b4;stroke-linecap:square;stroke-width:1.5;\"/>\n    </g>\n    <g id=\"line2d_18\"/>\n    <g id=\"text_17\">\n     <!-- Train Data -->\n     <defs>\n      <path d=\"M -0.296875 72.90625 \nL 61.375 72.90625 \nL 61.375 64.59375 \nL 35.5 64.59375 \nL 35.5 0 \nL 25.59375 0 \nL 25.59375 64.59375 \nL -0.296875 64.59375 \nz\n\" id=\"DejaVuSans-84\"/>\n      <path d=\"M 34.28125 27.484375 \nQ 23.390625 27.484375 19.1875 25 \nQ 14.984375 22.515625 14.984375 16.5 \nQ 14.984375 11.71875 18.140625 8.90625 \nQ 21.296875 6.109375 26.703125 6.109375 \nQ 34.1875 6.109375 38.703125 11.40625 \nQ 43.21875 16.703125 43.21875 25.484375 \nL 43.21875 27.484375 \nz\nM 52.203125 31.203125 \nL 52.203125 0 \nL 43.21875 0 \nL 43.21875 8.296875 \nQ 40.140625 3.328125 35.546875 0.953125 \nQ 30.953125 -1.421875 24.3125 -1.421875 \nQ 15.921875 -1.421875 10.953125 3.296875 \nQ 6 8.015625 6 15.921875 \nQ 6 25.140625 12.171875 29.828125 \nQ 18.359375 34.515625 30.609375 34.515625 \nL 43.21875 34.515625 \nL 43.21875 35.40625 \nQ 43.21875 41.609375 39.140625 45 \nQ 35.0625 48.390625 27.6875 48.390625 \nQ 23 48.390625 18.546875 47.265625 \nQ 14.109375 46.140625 10.015625 43.890625 \nL 10.015625 52.203125 \nQ 14.9375 54.109375 19.578125 55.046875 \nQ 24.21875 56 28.609375 56 \nQ 40.484375 56 46.34375 49.84375 \nQ 52.203125 43.703125 52.203125 31.203125 \nz\n\" id=\"DejaVuSans-97\"/>\n      <path d=\"M 9.421875 54.6875 \nL 18.40625 54.6875 \nL 18.40625 0 \nL 9.421875 0 \nz\nM 9.421875 75.984375 \nL 18.40625 75.984375 \nL 18.40625 64.59375 \nL 9.421875 64.59375 \nz\n\" id=\"DejaVuSans-105\"/>\n      <path d=\"M 54.890625 33.015625 \nL 54.890625 0 \nL 45.90625 0 \nL 45.90625 32.71875 \nQ 45.90625 40.484375 42.875 44.328125 \nQ 39.84375 48.1875 33.796875 48.1875 \nQ 26.515625 48.1875 22.3125 43.546875 \nQ 18.109375 38.921875 18.109375 30.90625 \nL 18.109375 0 \nL 9.078125 0 \nL 9.078125 54.6875 \nL 18.109375 54.6875 \nL 18.109375 46.1875 \nQ 21.34375 51.125 25.703125 53.5625 \nQ 30.078125 56 35.796875 56 \nQ 45.21875 56 50.046875 50.171875 \nQ 54.890625 44.34375 54.890625 33.015625 \nz\n\" id=\"DejaVuSans-110\"/>\n      <path d=\"M 19.671875 64.796875 \nL 19.671875 8.109375 \nL 31.59375 8.109375 \nQ 46.6875 8.109375 53.6875 14.9375 \nQ 60.6875 21.78125 60.6875 36.53125 \nQ 60.6875 51.171875 53.6875 57.984375 \nQ 46.6875 64.796875 31.59375 64.796875 \nz\nM 9.8125 72.90625 \nL 30.078125 72.90625 \nQ 51.265625 72.90625 61.171875 64.09375 \nQ 71.09375 55.28125 71.09375 36.53125 \nQ 71.09375 17.671875 61.125 8.828125 \nQ 51.171875 0 30.078125 0 \nL 9.8125 0 \nz\n\" id=\"DejaVuSans-68\"/>\n      <path d=\"M 18.3125 70.21875 \nL 18.3125 54.6875 \nL 36.8125 54.6875 \nL 36.8125 47.703125 \nL 18.3125 47.703125 \nL 18.3125 18.015625 \nQ 18.3125 11.328125 20.140625 9.421875 \nQ 21.96875 7.515625 27.59375 7.515625 \nL 36.8125 7.515625 \nL 36.8125 0 \nL 27.59375 0 \nQ 17.1875 0 13.234375 3.875 \nQ 9.28125 7.765625 9.28125 18.015625 \nL 9.28125 47.703125 \nL 2.6875 47.703125 \nL 2.6875 54.6875 \nL 9.28125 54.6875 \nL 9.28125 70.21875 \nz\n\" id=\"DejaVuSans-116\"/>\n     </defs>\n     <g transform=\"translate(317.085938 52.598437)scale(0.1 -0.1)\">\n      <use xlink:href=\"#DejaVuSans-84\"/>\n      <use x=\"60.865234\" xlink:href=\"#DejaVuSans-114\"/>\n      <use x=\"101.978516\" xlink:href=\"#DejaVuSans-97\"/>\n      <use x=\"163.257812\" xlink:href=\"#DejaVuSans-105\"/>\n      <use x=\"191.041016\" xlink:href=\"#DejaVuSans-110\"/>\n      <use x=\"254.419922\" xlink:href=\"#DejaVuSans-32\"/>\n      <use x=\"286.207031\" xlink:href=\"#DejaVuSans-68\"/>\n      <use x=\"363.208984\" xlink:href=\"#DejaVuSans-97\"/>\n      <use x=\"424.488281\" xlink:href=\"#DejaVuSans-116\"/>\n      <use x=\"463.697266\" xlink:href=\"#DejaVuSans-97\"/>\n     </g>\n    </g>\n    <g id=\"line2d_19\">\n     <path d=\"M 289.085938 63.776562 \nL 309.085938 63.776562 \n\" style=\"fill:none;stroke:#ff7f0e;stroke-linecap:square;stroke-width:1.5;\"/>\n    </g>\n    <g id=\"line2d_20\"/>\n    <g id=\"text_18\">\n     <!-- Test Data -->\n     <g transform=\"translate(317.085938 67.276562)scale(0.1 -0.1)\">\n      <use xlink:href=\"#DejaVuSans-84\"/>\n      <use x=\"60.818359\" xlink:href=\"#DejaVuSans-101\"/>\n      <use x=\"122.341797\" xlink:href=\"#DejaVuSans-115\"/>\n      <use x=\"174.441406\" xlink:href=\"#DejaVuSans-116\"/>\n      <use x=\"213.650391\" xlink:href=\"#DejaVuSans-32\"/>\n      <use x=\"245.4375\" xlink:href=\"#DejaVuSans-68\"/>\n      <use x=\"322.439453\" xlink:href=\"#DejaVuSans-97\"/>\n      <use x=\"383.71875\" xlink:href=\"#DejaVuSans-116\"/>\n      <use x=\"422.927734\" xlink:href=\"#DejaVuSans-97\"/>\n     </g>\n    </g>\n   </g>\n  </g>\n  <g id=\"text_19\">\n   <!-- Loss vs Number of Epochs -->\n   <defs>\n    <path d=\"M 2.984375 54.6875 \nL 12.5 54.6875 \nL 29.59375 8.796875 \nL 46.6875 54.6875 \nL 56.203125 54.6875 \nL 35.6875 0 \nL 23.484375 0 \nz\n\" id=\"DejaVuSans-118\"/>\n    <path d=\"M 37.109375 75.984375 \nL 37.109375 68.5 \nL 28.515625 68.5 \nQ 23.6875 68.5 21.796875 66.546875 \nQ 19.921875 64.59375 19.921875 59.515625 \nL 19.921875 54.6875 \nL 34.71875 54.6875 \nL 34.71875 47.703125 \nL 19.921875 47.703125 \nL 19.921875 0 \nL 10.890625 0 \nL 10.890625 47.703125 \nL 2.296875 47.703125 \nL 2.296875 54.6875 \nL 10.890625 54.6875 \nL 10.890625 58.5 \nQ 10.890625 67.625 15.140625 71.796875 \nQ 19.390625 75.984375 28.609375 75.984375 \nz\n\" id=\"DejaVuSans-102\"/>\n   </defs>\n   <g transform=\"translate(126.826875 16.318125)scale(0.12 -0.12)\">\n    <use xlink:href=\"#DejaVuSans-76\"/>\n    <use x=\"55.697266\" xlink:href=\"#DejaVuSans-111\"/>\n    <use x=\"116.878906\" xlink:href=\"#DejaVuSans-115\"/>\n    <use x=\"168.978516\" xlink:href=\"#DejaVuSans-115\"/>\n    <use x=\"221.078125\" xlink:href=\"#DejaVuSans-32\"/>\n    <use x=\"252.865234\" xlink:href=\"#DejaVuSans-118\"/>\n    <use x=\"312.044922\" xlink:href=\"#DejaVuSans-115\"/>\n    <use x=\"364.144531\" xlink:href=\"#DejaVuSans-32\"/>\n    <use x=\"395.931641\" xlink:href=\"#DejaVuSans-78\"/>\n    <use x=\"470.736328\" xlink:href=\"#DejaVuSans-117\"/>\n    <use x=\"534.115234\" xlink:href=\"#DejaVuSans-109\"/>\n    <use x=\"631.527344\" xlink:href=\"#DejaVuSans-98\"/>\n    <use x=\"695.003906\" xlink:href=\"#DejaVuSans-101\"/>\n    <use x=\"756.527344\" xlink:href=\"#DejaVuSans-114\"/>\n    <use x=\"797.640625\" xlink:href=\"#DejaVuSans-32\"/>\n    <use x=\"829.427734\" xlink:href=\"#DejaVuSans-111\"/>\n    <use x=\"890.609375\" xlink:href=\"#DejaVuSans-102\"/>\n    <use x=\"925.814453\" xlink:href=\"#DejaVuSans-32\"/>\n    <use x=\"957.601562\" xlink:href=\"#DejaVuSans-69\"/>\n    <use x=\"1020.785156\" xlink:href=\"#DejaVuSans-112\"/>\n    <use x=\"1084.261719\" xlink:href=\"#DejaVuSans-111\"/>\n    <use x=\"1145.443359\" xlink:href=\"#DejaVuSans-99\"/>\n    <use x=\"1200.423828\" xlink:href=\"#DejaVuSans-104\"/>\n    <use x=\"1263.802734\" xlink:href=\"#DejaVuSans-115\"/>\n   </g>\n  </g>\n </g>\n <defs>\n  <clipPath id=\"p24a044f95c\">\n   <rect height=\"217.44\" width=\"334.8\" x=\"43.78125\" y=\"36\"/>\n  </clipPath>\n </defs>\n</svg>\n",
      "image/png": "[encoded data removed]"
     },
     "metadata": {
      "needs_background": "light"
     }
    }
   ],
   "source": [
    "model.plot_loss()"
   ]
  },
  {
   "cell_type": "code",
   "execution_count": null,
   "metadata": {},
   "outputs": [],
   "source": [
    "min_validation = model.update_best_model()"
   ]
  },
  {
   "cell_type": "code",
   "execution_count": null,
   "metadata": {},
   "outputs": [],
   "source": [
    "test_error = model.calculate_test_data(test_data)"
   ]
  },
  {
   "cell_type": "code",
   "execution_count": 24,
   "metadata": {},
   "outputs": [
    {
     "output_type": "display_data",
     "data": {
      "text/plain": "      movieId                                              title  cos score\n1048     1360  Paradise Lost: The Child Murders at Robin Hood...       0.02\n8650   120634                                     Taken 3 (2015)       0.02\n4377     6411                          Destry Rides Again (1939)       0.02\n2183     2899                               Monkey Shines (1988)       0.02\n8719   126141                 The Cave of the Golden Rose (1991)       0.02",
      "text/html": "<div>\n<style scoped>\n    .dataframe tbody tr th:only-of-type {\n        vertical-align: middle;\n    }\n\n    .dataframe tbody tr th {\n        vertical-align: top;\n    }\n\n    .dataframe thead th {\n        text-align: right;\n    }\n</style>\n<table border=\"1\" class=\"dataframe\">\n  <thead>\n    <tr style=\"text-align: right;\">\n      <th></th>\n      <th>movieId</th>\n      <th>title</th>\n      <th>cos score</th>\n    </tr>\n  </thead>\n  <tbody>\n    <tr>\n      <th>1048</th>\n      <td>1360</td>\n      <td>Paradise Lost: The Child Murders at Robin Hood...</td>\n      <td>0.02</td>\n    </tr>\n    <tr>\n      <th>8650</th>\n      <td>120634</td>\n      <td>Taken 3 (2015)</td>\n      <td>0.02</td>\n    </tr>\n    <tr>\n      <th>4377</th>\n      <td>6411</td>\n      <td>Destry Rides Again (1939)</td>\n      <td>0.02</td>\n    </tr>\n    <tr>\n      <th>2183</th>\n      <td>2899</td>\n      <td>Monkey Shines (1988)</td>\n      <td>0.02</td>\n    </tr>\n    <tr>\n      <th>8719</th>\n      <td>126141</td>\n      <td>The Cave of the Golden Rose (1991)</td>\n      <td>0.02</td>\n    </tr>\n  </tbody>\n</table>\n</div>"
     },
     "metadata": {}
    }
   ],
   "source": [
    "model.user_base_rank(1,list_userId,list_movieId,5,'cos')"
   ]
  },
  {
   "cell_type": "code",
   "execution_count": 25,
   "metadata": {},
   "outputs": [
    {
     "output_type": "display_data",
     "data": {
      "text/plain": "      movieId                                              title  dot score\n8719   126141                 The Cave of the Golden Rose (1991)       6.96\n2183     2899                               Monkey Shines (1988)       6.75\n4377     6411                          Destry Rides Again (1939)       6.56\n8650   120634                                     Taken 3 (2015)       6.31\n1048     1360  Paradise Lost: The Child Murders at Robin Hood...       6.09",
      "text/html": "<div>\n<style scoped>\n    .dataframe tbody tr th:only-of-type {\n        vertical-align: middle;\n    }\n\n    .dataframe tbody tr th {\n        vertical-align: top;\n    }\n\n    .dataframe thead th {\n        text-align: right;\n    }\n</style>\n<table border=\"1\" class=\"dataframe\">\n  <thead>\n    <tr style=\"text-align: right;\">\n      <th></th>\n      <th>movieId</th>\n      <th>title</th>\n      <th>dot score</th>\n    </tr>\n  </thead>\n  <tbody>\n    <tr>\n      <th>8719</th>\n      <td>126141</td>\n      <td>The Cave of the Golden Rose (1991)</td>\n      <td>6.96</td>\n    </tr>\n    <tr>\n      <th>2183</th>\n      <td>2899</td>\n      <td>Monkey Shines (1988)</td>\n      <td>6.75</td>\n    </tr>\n    <tr>\n      <th>4377</th>\n      <td>6411</td>\n      <td>Destry Rides Again (1939)</td>\n      <td>6.56</td>\n    </tr>\n    <tr>\n      <th>8650</th>\n      <td>120634</td>\n      <td>Taken 3 (2015)</td>\n      <td>6.31</td>\n    </tr>\n    <tr>\n      <th>1048</th>\n      <td>1360</td>\n      <td>Paradise Lost: The Child Murders at Robin Hood...</td>\n      <td>6.09</td>\n    </tr>\n  </tbody>\n</table>\n</div>"
     },
     "metadata": {}
    }
   ],
   "source": [
    "model.user_base_rank(1,list_userId,list_movieId,5,'dot')"
   ]
  },
  {
   "cell_type": "code",
   "execution_count": 28,
   "metadata": {},
   "outputs": [
    {
     "output_type": "display_data",
     "data": {
      "text/plain": "      movieId                                    title  dot score\n1536     2070            And the Band Played On (1993)       5.92\n4847     7244                         Tormented (1960)       5.13\n1803     2402  First Blood (Rambo: First Blood) (1982)       4.91\n784      1026     Robin Hood: Prince of Thieves (1991)       4.90\n7427    80830                         Let Me In (2010)       4.78",
      "text/html": "<div>\n<style scoped>\n    .dataframe tbody tr th:only-of-type {\n        vertical-align: middle;\n    }\n\n    .dataframe tbody tr th {\n        vertical-align: top;\n    }\n\n    .dataframe thead th {\n        text-align: right;\n    }\n</style>\n<table border=\"1\" class=\"dataframe\">\n  <thead>\n    <tr style=\"text-align: right;\">\n      <th></th>\n      <th>movieId</th>\n      <th>title</th>\n      <th>dot score</th>\n    </tr>\n  </thead>\n  <tbody>\n    <tr>\n      <th>1536</th>\n      <td>2070</td>\n      <td>And the Band Played On (1993)</td>\n      <td>5.92</td>\n    </tr>\n    <tr>\n      <th>4847</th>\n      <td>7244</td>\n      <td>Tormented (1960)</td>\n      <td>5.13</td>\n    </tr>\n    <tr>\n      <th>1803</th>\n      <td>2402</td>\n      <td>First Blood (Rambo: First Blood) (1982)</td>\n      <td>4.91</td>\n    </tr>\n    <tr>\n      <th>784</th>\n      <td>1026</td>\n      <td>Robin Hood: Prince of Thieves (1991)</td>\n      <td>4.90</td>\n    </tr>\n    <tr>\n      <th>7427</th>\n      <td>80830</td>\n      <td>Let Me In (2010)</td>\n      <td>4.78</td>\n    </tr>\n  </tbody>\n</table>\n</div>"
     },
     "metadata": {}
    }
   ],
   "source": [
    "model.movie_base_rank('Aladdin',list_movieId,measure='dot')"
   ]
  },
  {
   "cell_type": "code",
   "execution_count": 29,
   "metadata": {},
   "outputs": [
    {
     "output_type": "display_data",
     "data": {
      "text/plain": "      movieId                                    title  cos score\n4847     7244                         Tormented (1960)       0.02\n1536     2070            And the Band Played On (1993)       0.02\n7427    80830                         Let Me In (2010)       0.01\n784      1026     Robin Hood: Prince of Thieves (1991)       0.01\n1803     2402  First Blood (Rambo: First Blood) (1982)       0.01",
      "text/html": "<div>\n<style scoped>\n    .dataframe tbody tr th:only-of-type {\n        vertical-align: middle;\n    }\n\n    .dataframe tbody tr th {\n        vertical-align: top;\n    }\n\n    .dataframe thead th {\n        text-align: right;\n    }\n</style>\n<table border=\"1\" class=\"dataframe\">\n  <thead>\n    <tr style=\"text-align: right;\">\n      <th></th>\n      <th>movieId</th>\n      <th>title</th>\n      <th>cos score</th>\n    </tr>\n  </thead>\n  <tbody>\n    <tr>\n      <th>4847</th>\n      <td>7244</td>\n      <td>Tormented (1960)</td>\n      <td>0.02</td>\n    </tr>\n    <tr>\n      <th>1536</th>\n      <td>2070</td>\n      <td>And the Band Played On (1993)</td>\n      <td>0.02</td>\n    </tr>\n    <tr>\n      <th>7427</th>\n      <td>80830</td>\n      <td>Let Me In (2010)</td>\n      <td>0.01</td>\n    </tr>\n    <tr>\n      <th>784</th>\n      <td>1026</td>\n      <td>Robin Hood: Prince of Thieves (1991)</td>\n      <td>0.01</td>\n    </tr>\n    <tr>\n      <th>1803</th>\n      <td>2402</td>\n      <td>First Blood (Rambo: First Blood) (1982)</td>\n      <td>0.01</td>\n    </tr>\n  </tbody>\n</table>\n</div>"
     },
     "metadata": {}
    }
   ],
   "source": [
    "model.movie_base_rank('Aladdin',list_movieId,measure='cos')"
   ]
  },
  {
   "cell_type": "code",
   "execution_count": null,
   "metadata": {},
   "outputs": [],
   "source": []
  }
 ]
}